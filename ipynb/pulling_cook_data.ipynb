{
 "cells": [
  {
   "cell_type": "markdown",
   "metadata": {},
   "source": [
    "#### Attempting to pull 10% sample from the Database"
   ]
  },
  {
   "cell_type": "code",
   "execution_count": 1,
   "metadata": {
    "scrolled": true
   },
   "outputs": [
    {
     "name": "stdout",
     "output_type": "stream",
     "text": [
      "Requirement already satisfied: tqdm in /opt/conda/lib/python3.6/site-packages\r\n"
     ]
    }
   ],
   "source": [
    "!pip install tqdm"
   ]
  },
  {
   "cell_type": "code",
   "execution_count": 2,
   "metadata": {},
   "outputs": [
    {
     "name": "stderr",
     "output_type": "stream",
     "text": [
      "4it [00:57, 14.44s/it]                       \n"
     ]
    },
    {
     "data": {
      "text/plain": [
       "(1945, 1002)"
      ]
     },
     "execution_count": 2,
     "metadata": {},
     "output_type": "execute_result"
    }
   ],
   "source": [
    "import psycopg2 as pg2\n",
    "from psycopg2.extras import RealDictCursor\n",
    "import pandas as pd\n",
    "from tqdm import tqdm\n",
    "\n",
    "BATCH_SIZE = 500\n",
    "SAMPLE_SIZE = 500\n",
    "SAMPLE_PERCENT = 1\n",
    "\n",
    "con = pg2.connect(host='34.211.227.227',dbname='postgres', user='postgres')\n",
    "cur = con.cursor(cursor_factory=RealDictCursor, name='customer_cursor')\n",
    "cur.execute('SELECT * FROM madelon TABLESAMPLE SYSTEM ({});'.format(SAMPLE_PERCENT))\n",
    "\n",
    "cook1 = []\n",
    "\n",
    "pbar = tqdm(total=SAMPLE_SIZE//BATCH_SIZE)\n",
    "while True:\n",
    "    records = cur.fetchmany(size=BATCH_SIZE)\n",
    "\n",
    "    if not records:\n",
    "        break\n",
    "\n",
    "    cook1 += records\n",
    "    pbar.update(1)\n",
    "\n",
    "cur.close() \n",
    "con.close()\n",
    "pbar.close()\n",
    "\n",
    "cook1_df = pd.DataFrame(cook1)\n",
    "cook1_df.shape "
   ]
  },
  {
   "cell_type": "code",
   "execution_count": 3,
   "metadata": {},
   "outputs": [
    {
     "name": "stderr",
     "output_type": "stream",
     "text": [
      "5it [00:26,  4.60s/it]                       \n"
     ]
    },
    {
     "data": {
      "text/plain": [
       "(2020, 1002)"
      ]
     },
     "execution_count": 3,
     "metadata": {},
     "output_type": "execute_result"
    }
   ],
   "source": [
    "import psycopg2 as pg2\n",
    "from psycopg2.extras import RealDictCursor\n",
    "import pandas as pd\n",
    "from tqdm import tqdm\n",
    "\n",
    "BATCH_SIZE = 500\n",
    "SAMPLE_SIZE = 500\n",
    "SAMPLE_PERCENT = 1\n",
    "\n",
    "con = pg2.connect(host='34.211.227.227',dbname='postgres', user='postgres')\n",
    "cur = con.cursor(cursor_factory=RealDictCursor, name='customer_cursor')\n",
    "cur.execute('SELECT * FROM madelon TABLESAMPLE SYSTEM ({});'.format(SAMPLE_PERCENT))\n",
    "\n",
    "cook2 = []\n",
    "\n",
    "pbar = tqdm(total=SAMPLE_SIZE//BATCH_SIZE)\n",
    "while True:\n",
    "    records = cur.fetchmany(size=BATCH_SIZE)\n",
    "\n",
    "    if not records:\n",
    "        break\n",
    "\n",
    "    cook2 += records\n",
    "    pbar.update(1)\n",
    "\n",
    "cur.close() \n",
    "con.close()\n",
    "pbar.close()\n",
    "\n",
    "cook2_df = pd.DataFrame(cook2)\n",
    "cook2_df.shape "
   ]
  },
  {
   "cell_type": "code",
   "execution_count": 4,
   "metadata": {},
   "outputs": [
    {
     "name": "stderr",
     "output_type": "stream",
     "text": [
      "5it [00:25,  4.55s/it]                       \n"
     ]
    },
    {
     "data": {
      "text/plain": [
       "(2028, 1002)"
      ]
     },
     "execution_count": 4,
     "metadata": {},
     "output_type": "execute_result"
    }
   ],
   "source": [
    "import psycopg2 as pg2\n",
    "from psycopg2.extras import RealDictCursor\n",
    "import pandas as pd\n",
    "from tqdm import tqdm\n",
    "\n",
    "BATCH_SIZE = 500\n",
    "SAMPLE_SIZE = 500\n",
    "SAMPLE_PERCENT = 1\n",
    "\n",
    "con = pg2.connect(host='34.211.227.227',dbname='postgres', user='postgres')\n",
    "cur = con.cursor(cursor_factory=RealDictCursor, name='customer_cursor')\n",
    "cur.execute('SELECT * FROM madelon TABLESAMPLE SYSTEM ({});'.format(SAMPLE_PERCENT))\n",
    "\n",
    "cook3 = []\n",
    "\n",
    "pbar = tqdm(total=SAMPLE_SIZE//BATCH_SIZE)\n",
    "while True:\n",
    "    records = cur.fetchmany(size=BATCH_SIZE)\n",
    "\n",
    "    if not records:\n",
    "        break\n",
    "\n",
    "    cook3 += records\n",
    "    pbar.update(1)\n",
    "\n",
    "cur.close() \n",
    "con.close()\n",
    "pbar.close()\n",
    "\n",
    "cook3_df = pd.DataFrame(cook3)\n",
    "cook3_df.shape "
   ]
  },
  {
   "cell_type": "code",
   "execution_count": null,
   "metadata": {},
   "outputs": [
    {
     "name": "stderr",
     "output_type": "stream",
     "text": [
      "4it [00:25,  6.33s/it]                       "
     ]
    }
   ],
   "source": [
    "import psycopg2 as pg2\n",
    "from psycopg2.extras import RealDictCursor\n",
    "import pandas as pd\n",
    "from tqdm import tqdm\n",
    "\n",
    "BATCH_SIZE = 500\n",
    "SAMPLE_SIZE = 500\n",
    "SAMPLE_PERCENT = 1\n",
    "\n",
    "con = pg2.connect(host='34.211.227.227',dbname='postgres', user='postgres')\n",
    "cur = con.cursor(cursor_factory=RealDictCursor, name='customer_cursor')\n",
    "cur.execute('SELECT * FROM madelon TABLESAMPLE SYSTEM ({});'.format(SAMPLE_PERCENT))\n",
    "\n",
    "cook4 = []\n",
    "\n",
    "pbar = tqdm(total=SAMPLE_SIZE//BATCH_SIZE)\n",
    "while True:\n",
    "    records = cur.fetchmany(size=BATCH_SIZE)\n",
    "\n",
    "    if not records:\n",
    "        break\n",
    "\n",
    "    cook4 += records\n",
    "    pbar.update(1)\n",
    "\n",
    "cur.close() \n",
    "con.close()\n",
    "pbar.close()\n",
    "\n",
    "cook4_df = pd.DataFrame(cook4)\n",
    "cook4_df.shape "
   ]
  }
 ],
 "metadata": {
  "kernelspec": {
   "display_name": "Python 3",
   "language": "python",
   "name": "python3"
  },
  "language_info": {
   "codemirror_mode": {
    "name": "ipython",
    "version": 3
   },
   "file_extension": ".py",
   "mimetype": "text/x-python",
   "name": "python",
   "nbconvert_exporter": "python",
   "pygments_lexer": "ipython3",
   "version": "3.6.2"
  }
 },
 "nbformat": 4,
 "nbformat_minor": 2
}
