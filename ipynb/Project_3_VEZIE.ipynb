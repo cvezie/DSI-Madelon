{
 "cells": [
  {
   "cell_type": "code",
   "execution_count": 1,
   "metadata": {},
   "outputs": [
    {
     "name": "stdout",
     "output_type": "stream",
     "text": [
      "Fetching package metadata ...........\n",
      "Solving package specifications: .\n",
      "\n",
      "# All requested packages already installed.\n",
      "# packages in environment at /opt/conda:\n",
      "#\n",
      "psycopg2                  2.7.3.1                  py36_0    conda-forge\n"
     ]
    }
   ],
   "source": [
    "!conda install psycopg2 --yes"
   ]
  },
  {
   "cell_type": "code",
   "execution_count": 2,
   "metadata": {
    "collapsed": true
   },
   "outputs": [],
   "source": [
    "import psycopg2 as pg2\n",
    "from psycopg2.extras import RealDictCursor\n",
    "import pandas as pd\n",
    "import numpy as np\n",
    "import seaborn as sns\n",
    "import matplotlib.pyplot as plt\n",
    "%matplotlib inline\n",
    "madelon_tr = pd.read_csv(\"madelon_train.data.txt\", delimiter=' ', header=None)"
   ]
  },
  {
   "cell_type": "code",
   "execution_count": 3,
   "metadata": {
    "collapsed": true
   },
   "outputs": [],
   "source": [
    "madelon_tr = pd.read_csv(\"madelon_train.data.txt\", delimiter=' ', header=None)\n",
    "\n",
    "madelon_ts = pd.read_csv(\"madelon_test.data.txt\", delimiter=' ', header=None)\n",
    "\n",
    "madelon_val = pd.read_csv(\"madelon_valid.data.txt\", delimiter=' ', header=None)\n",
    "\n",
    "madelon_tr_labels = pd.read_csv(\"madelon_train.labels.txt\", delimiter=' ', header=None)"
   ]
  },
  {
   "cell_type": "code",
   "execution_count": 7,
   "metadata": {},
   "outputs": [
    {
     "data": {
      "text/html": [
       "<div>\n",
       "<table border=\"1\" class=\"dataframe\">\n",
       "  <thead>\n",
       "    <tr style=\"text-align: right;\">\n",
       "      <th></th>\n",
       "      <th>0</th>\n",
       "    </tr>\n",
       "  </thead>\n",
       "  <tbody>\n",
       "    <tr>\n",
       "      <th>0</th>\n",
       "      <td>-1</td>\n",
       "    </tr>\n",
       "    <tr>\n",
       "      <th>1</th>\n",
       "      <td>-1</td>\n",
       "    </tr>\n",
       "    <tr>\n",
       "      <th>2</th>\n",
       "      <td>-1</td>\n",
       "    </tr>\n",
       "    <tr>\n",
       "      <th>3</th>\n",
       "      <td>1</td>\n",
       "    </tr>\n",
       "    <tr>\n",
       "      <th>4</th>\n",
       "      <td>1</td>\n",
       "    </tr>\n",
       "  </tbody>\n",
       "</table>\n",
       "</div>"
      ],
      "text/plain": [
       "   0\n",
       "0 -1\n",
       "1 -1\n",
       "2 -1\n",
       "3  1\n",
       "4  1"
      ]
     },
     "execution_count": 7,
     "metadata": {},
     "output_type": "execute_result"
    }
   ],
   "source": [
    "madelon_tr_labels.head()"
   ]
  },
  {
   "cell_type": "code",
   "execution_count": 8,
   "metadata": {},
   "outputs": [
    {
     "data": {
      "text/plain": [
       "pandas.core.frame.DataFrame"
      ]
     },
     "execution_count": 8,
     "metadata": {},
     "output_type": "execute_result"
    }
   ],
   "source": [
    "type(madelon_tr)"
   ]
  },
  {
   "cell_type": "code",
   "execution_count": 9,
   "metadata": {},
   "outputs": [
    {
     "data": {
      "text/html": [
       "<div>\n",
       "<table border=\"1\" class=\"dataframe\">\n",
       "  <thead>\n",
       "    <tr style=\"text-align: right;\">\n",
       "      <th></th>\n",
       "      <th>0</th>\n",
       "      <th>1</th>\n",
       "      <th>2</th>\n",
       "      <th>3</th>\n",
       "      <th>4</th>\n",
       "      <th>5</th>\n",
       "      <th>6</th>\n",
       "      <th>7</th>\n",
       "      <th>8</th>\n",
       "      <th>9</th>\n",
       "      <th>...</th>\n",
       "      <th>491</th>\n",
       "      <th>492</th>\n",
       "      <th>493</th>\n",
       "      <th>494</th>\n",
       "      <th>495</th>\n",
       "      <th>496</th>\n",
       "      <th>497</th>\n",
       "      <th>498</th>\n",
       "      <th>499</th>\n",
       "      <th>500</th>\n",
       "    </tr>\n",
       "  </thead>\n",
       "  <tbody>\n",
       "    <tr>\n",
       "      <th>0</th>\n",
       "      <td>485</td>\n",
       "      <td>477</td>\n",
       "      <td>537</td>\n",
       "      <td>479</td>\n",
       "      <td>452</td>\n",
       "      <td>471</td>\n",
       "      <td>491</td>\n",
       "      <td>476</td>\n",
       "      <td>475</td>\n",
       "      <td>473</td>\n",
       "      <td>...</td>\n",
       "      <td>481</td>\n",
       "      <td>477</td>\n",
       "      <td>485</td>\n",
       "      <td>511</td>\n",
       "      <td>485</td>\n",
       "      <td>481</td>\n",
       "      <td>479</td>\n",
       "      <td>475</td>\n",
       "      <td>496</td>\n",
       "      <td>NaN</td>\n",
       "    </tr>\n",
       "    <tr>\n",
       "      <th>1</th>\n",
       "      <td>483</td>\n",
       "      <td>458</td>\n",
       "      <td>460</td>\n",
       "      <td>487</td>\n",
       "      <td>587</td>\n",
       "      <td>475</td>\n",
       "      <td>526</td>\n",
       "      <td>479</td>\n",
       "      <td>485</td>\n",
       "      <td>469</td>\n",
       "      <td>...</td>\n",
       "      <td>478</td>\n",
       "      <td>487</td>\n",
       "      <td>338</td>\n",
       "      <td>513</td>\n",
       "      <td>486</td>\n",
       "      <td>483</td>\n",
       "      <td>492</td>\n",
       "      <td>510</td>\n",
       "      <td>517</td>\n",
       "      <td>NaN</td>\n",
       "    </tr>\n",
       "    <tr>\n",
       "      <th>2</th>\n",
       "      <td>487</td>\n",
       "      <td>542</td>\n",
       "      <td>499</td>\n",
       "      <td>468</td>\n",
       "      <td>448</td>\n",
       "      <td>471</td>\n",
       "      <td>442</td>\n",
       "      <td>478</td>\n",
       "      <td>480</td>\n",
       "      <td>477</td>\n",
       "      <td>...</td>\n",
       "      <td>481</td>\n",
       "      <td>492</td>\n",
       "      <td>650</td>\n",
       "      <td>506</td>\n",
       "      <td>501</td>\n",
       "      <td>480</td>\n",
       "      <td>489</td>\n",
       "      <td>499</td>\n",
       "      <td>498</td>\n",
       "      <td>NaN</td>\n",
       "    </tr>\n",
       "    <tr>\n",
       "      <th>3</th>\n",
       "      <td>480</td>\n",
       "      <td>491</td>\n",
       "      <td>510</td>\n",
       "      <td>485</td>\n",
       "      <td>495</td>\n",
       "      <td>472</td>\n",
       "      <td>417</td>\n",
       "      <td>474</td>\n",
       "      <td>502</td>\n",
       "      <td>476</td>\n",
       "      <td>...</td>\n",
       "      <td>480</td>\n",
       "      <td>474</td>\n",
       "      <td>572</td>\n",
       "      <td>454</td>\n",
       "      <td>469</td>\n",
       "      <td>475</td>\n",
       "      <td>482</td>\n",
       "      <td>494</td>\n",
       "      <td>461</td>\n",
       "      <td>NaN</td>\n",
       "    </tr>\n",
       "    <tr>\n",
       "      <th>4</th>\n",
       "      <td>484</td>\n",
       "      <td>502</td>\n",
       "      <td>528</td>\n",
       "      <td>489</td>\n",
       "      <td>466</td>\n",
       "      <td>481</td>\n",
       "      <td>402</td>\n",
       "      <td>478</td>\n",
       "      <td>487</td>\n",
       "      <td>468</td>\n",
       "      <td>...</td>\n",
       "      <td>479</td>\n",
       "      <td>452</td>\n",
       "      <td>435</td>\n",
       "      <td>486</td>\n",
       "      <td>508</td>\n",
       "      <td>481</td>\n",
       "      <td>504</td>\n",
       "      <td>495</td>\n",
       "      <td>511</td>\n",
       "      <td>NaN</td>\n",
       "    </tr>\n",
       "  </tbody>\n",
       "</table>\n",
       "<p>5 rows × 501 columns</p>\n",
       "</div>"
      ],
      "text/plain": [
       "   0    1    2    3    4    5    6    7    8    9   ...   491  492  493  494  \\\n",
       "0  485  477  537  479  452  471  491  476  475  473 ...   481  477  485  511   \n",
       "1  483  458  460  487  587  475  526  479  485  469 ...   478  487  338  513   \n",
       "2  487  542  499  468  448  471  442  478  480  477 ...   481  492  650  506   \n",
       "3  480  491  510  485  495  472  417  474  502  476 ...   480  474  572  454   \n",
       "4  484  502  528  489  466  481  402  478  487  468 ...   479  452  435  486   \n",
       "\n",
       "   495  496  497  498  499  500  \n",
       "0  485  481  479  475  496  NaN  \n",
       "1  486  483  492  510  517  NaN  \n",
       "2  501  480  489  499  498  NaN  \n",
       "3  469  475  482  494  461  NaN  \n",
       "4  508  481  504  495  511  NaN  \n",
       "\n",
       "[5 rows x 501 columns]"
      ]
     },
     "execution_count": 9,
     "metadata": {},
     "output_type": "execute_result"
    }
   ],
   "source": [
    "madelon_tr.head()"
   ]
  },
  {
   "cell_type": "code",
   "execution_count": 10,
   "metadata": {},
   "outputs": [
    {
     "data": {
      "text/plain": [
       "(2000, 501)"
      ]
     },
     "execution_count": 10,
     "metadata": {},
     "output_type": "execute_result"
    }
   ],
   "source": [
    "madelon_tr.shape"
   ]
  },
  {
   "cell_type": "code",
   "execution_count": 11,
   "metadata": {},
   "outputs": [
    {
     "data": {
      "text/plain": [
       "(1800, 501)"
      ]
     },
     "execution_count": 11,
     "metadata": {},
     "output_type": "execute_result"
    }
   ],
   "source": [
    "madelon_ts.shape"
   ]
  },
  {
   "cell_type": "code",
   "execution_count": 12,
   "metadata": {},
   "outputs": [
    {
     "data": {
      "text/plain": [
       "(600, 501)"
      ]
     },
     "execution_count": 12,
     "metadata": {},
     "output_type": "execute_result"
    }
   ],
   "source": [
    "madelon_val.shape"
   ]
  },
  {
   "cell_type": "code",
   "execution_count": 13,
   "metadata": {},
   "outputs": [
    {
     "data": {
      "text/plain": [
       "Int64Index([  0,   1,   2,   3,   4,   5,   6,   7,   8,   9,\n",
       "            ...\n",
       "            491, 492, 493, 494, 495, 496, 497, 498, 499, 500],\n",
       "           dtype='int64', length=501)"
      ]
     },
     "execution_count": 13,
     "metadata": {},
     "output_type": "execute_result"
    }
   ],
   "source": [
    "madelon_tr.columns"
   ]
  },
  {
   "cell_type": "code",
   "execution_count": 14,
   "metadata": {},
   "outputs": [
    {
     "data": {
      "text/plain": [
       "numpy.int64"
      ]
     },
     "execution_count": 14,
     "metadata": {},
     "output_type": "execute_result"
    }
   ],
   "source": [
    "type(madelon_tr[226][543])"
   ]
  },
  {
   "cell_type": "code",
   "execution_count": 15,
   "metadata": {},
   "outputs": [
    {
     "data": {
      "text/plain": [
       "<bound method NDFrame.describe of       0    1    2    3    4    5    6    7    8    9   ...   491  492  493  \\\n",
       "0     485  477  537  479  452  471  491  476  475  473 ...   481  477  485   \n",
       "1     483  458  460  487  587  475  526  479  485  469 ...   478  487  338   \n",
       "2     487  542  499  468  448  471  442  478  480  477 ...   481  492  650   \n",
       "3     480  491  510  485  495  472  417  474  502  476 ...   480  474  572   \n",
       "4     484  502  528  489  466  481  402  478  487  468 ...   479  452  435   \n",
       "5     481  496  451  480  516  484  484  476  500  482 ...   481  477  435   \n",
       "6     484  533  498  466  577  482  471  477  476  468 ...   483  490  648   \n",
       "7     474  468  598  490  530  482  448  476  497  489 ...   479  511  351   \n",
       "8     484  498  558  489  508  478  471  478  488  470 ...   478  478  633   \n",
       "9     496  448  570  476  477  481  595  477  465  490 ...   476  447  576   \n",
       "10    478  446  457  475  468  475  482  479  478  473 ...   479  506  491   \n",
       "11    486  479  528  483  530  484  479  477  462  487 ...   476  498  599   \n",
       "12    466  486  540  492  500  475  491  474  505  475 ...   481  459  696   \n",
       "13    477  510  536  497  481  488  556  478  486  475 ...   481  490  649   \n",
       "14    490  454  491  476  517  489  459  477  508  482 ...   484  485  633   \n",
       "15    485  472  536  485  497  466  530  478  475  475 ...   481  501  732   \n",
       "16    483  506  450  490  519  484  455  476  473  468 ...   470  502  207   \n",
       "17    485  481  428  478  531  469  468  477  473  471 ...   479  503  549   \n",
       "18    475  454  539  467  510  480  498  477  505  473 ...   479  470  627   \n",
       "19    472  485  461  483  533  484  569  480  496  471 ...   479  449  363   \n",
       "20    491  487  520  463  501  486  487  476  486  471 ...   480  499  285   \n",
       "21    470  464  494  512  559  484  398  478  486  485 ...   483  484  708   \n",
       "22    481  480  473  483  504  477  493  477  494  482 ...   480  496  453   \n",
       "23    482  487  543  479  498  475  436  476  476  479 ...   474  466  366   \n",
       "24    488  425  465  483  571  482  436  478  478  486 ...   480  506  596   \n",
       "25    489  510  492  468  510  486  481  477  482  477 ...   478  494  604   \n",
       "26    469  448  478  485  492  464  513  477  515  477 ...   478  541  649   \n",
       "27    480  461  496  476  448  472  429  477  492  486 ...   473  487  314   \n",
       "28    475  485  541  478  542  486  509  478  492  480 ...   478  513  561   \n",
       "29    484  478  566  483  483  484  502  476  486  475 ...   482  465  557   \n",
       "...   ...  ...  ...  ...  ...  ...  ...  ...  ...  ... ...   ...  ...  ...   \n",
       "1970  486  472  544  490  486  482  431  475  509  474 ...   477  476  554   \n",
       "1971  489  503  532  492  581  499  458  478  493  485 ...   479  494  595   \n",
       "1972  484  473  534  463  564  472  467  475  479  478 ...   487  514  524   \n",
       "1973  470  499  496  472  578  465  470  477  483  482 ...   479  473  564   \n",
       "1974  488  492  492  482  522  478  480  476  468  471 ...   477  488  516   \n",
       "1975  489  527  484  461  486  485  467  477  503  484 ...   479  480  498   \n",
       "1976  480  534  473  492  490  487  518  475  487  476 ...   484  465  496   \n",
       "1977  486  521  480  480  461  483  445  479  464  474 ...   480  488  695   \n",
       "1978  481  515  484  502  519  484  404  478  479  484 ...   472  526  713   \n",
       "1979  471  463  430  490  473  486  520  476  467  474 ...   473  534  789   \n",
       "1980  478  451  595  492  555  475  461  475  499  487 ...   483  464  410   \n",
       "1981  486  472  544  486  465  482  445  475  490  480 ...   483  479  187   \n",
       "1982  475  507  550  476  493  483  444  477  489  481 ...   480  511  479   \n",
       "1983  478  513  584  488  509  479  504  472  480  482 ...   483  482  458   \n",
       "1984  486  524  475  481  530  482  522  477  478  478 ...   475  468  433   \n",
       "1985  483  483  523  489  422  485  466  476  489  487 ...   475  445  600   \n",
       "1986  480  491  519  490  513  469  460  475  467  475 ...   477  509  583   \n",
       "1987  471  502  526  487  504  482  502  477  493  487 ...   497  506  573   \n",
       "1988  482  447  463  485  526  489  429  477  498  485 ...   472  494  487   \n",
       "1989  486  473  525  486  443  477  458  475  486  481 ...   482  536  639   \n",
       "1990  475  403  544  488  452  481  541  476  482  475 ...   473  488  438   \n",
       "1991  482  541  590  487  461  483  389  477  499  490 ...   481  504  304   \n",
       "1992  495  456  538  496  467  495  443  475  461  494 ...   479  487  488   \n",
       "1993  477  501  518  496  479  472  424  476  501  486 ...   476  435  736   \n",
       "1994  483  466  588  491  381  476  495  476  470  479 ...   474  453  715   \n",
       "1995  490  505  503  474  463  461  519  476  518  467 ...   479  449  588   \n",
       "1996  480  475  476  480  495  482  515  479  480  484 ...   474  473  424   \n",
       "1997  480  517  631  470  485  474  535  476  493  466 ...   483  479  687   \n",
       "1998  484  481  505  478  542  477  518  477  510  472 ...   483  526  750   \n",
       "1999  474  493  469  486  521  475  494  479  481  473 ...   476  508  449   \n",
       "\n",
       "      494  495  496  497  498  499  500  \n",
       "0     511  485  481  479  475  496  NaN  \n",
       "1     513  486  483  492  510  517  NaN  \n",
       "2     506  501  480  489  499  498  NaN  \n",
       "3     454  469  475  482  494  461  NaN  \n",
       "4     486  508  481  504  495  511  NaN  \n",
       "5     491  564  482  463  457  500  NaN  \n",
       "6     484  475  479  475  462  484  NaN  \n",
       "7     462  533  480  501  529  489  NaN  \n",
       "8     453  556  458  473  531  440  NaN  \n",
       "9     511  508  478  486  582  496  NaN  \n",
       "10    512  476  471  501  550  517  NaN  \n",
       "11    459  452  475  496  505  485  NaN  \n",
       "12    470  503  473  493  506  522  NaN  \n",
       "13    486  520  485  480  500  485  NaN  \n",
       "14    562  482  474  500  535  474  NaN  \n",
       "15    509  548  479  500  529  539  NaN  \n",
       "16    547  479  476  461  520  504  NaN  \n",
       "17    506  574  483  496  521  495  NaN  \n",
       "18    509  451  476  479  540  506  NaN  \n",
       "19    495  536  484  494  503  447  NaN  \n",
       "20    486  480  479  493  578  484  NaN  \n",
       "21    545  462  474  503  454  501  NaN  \n",
       "22    451  462  484  492  520  511  NaN  \n",
       "23    443  489  480  515  520  500  NaN  \n",
       "24    463  486  478  510  472  508  NaN  \n",
       "25    553  518  473  454  455  528  NaN  \n",
       "26    435  513  481  463  506  569  NaN  \n",
       "27    464  499  480  463  480  464  NaN  \n",
       "28    504  509  482  485  481  487  NaN  \n",
       "29    527  525  478  485  467  473  NaN  \n",
       "...   ...  ...  ...  ...  ...  ...  ...  \n",
       "1970  508  535  476  476  515  481  NaN  \n",
       "1971  477  552  477  474  555  538  NaN  \n",
       "1972  539  525  475  493  507  527  NaN  \n",
       "1973  480  474  479  493  550  476  NaN  \n",
       "1974  554  521  478  459  428  449  NaN  \n",
       "1975  510  498  481  474  512  477  NaN  \n",
       "1976  529  510  486  497  457  478  NaN  \n",
       "1977  407  483  478  460  533  493  NaN  \n",
       "1978  517  410  487  490  467  475  NaN  \n",
       "1979  447  517  474  474  545  506  NaN  \n",
       "1980  548  472  479  479  524  527  NaN  \n",
       "1981  587  512  478  497  502  527  NaN  \n",
       "1982  480  534  485  481  505  583  NaN  \n",
       "1983  485  474  487  488  465  495  NaN  \n",
       "1984  456  548  484  463  523  503  NaN  \n",
       "1985  488  515  479  470  500  451  NaN  \n",
       "1986  542  523  472  472  562  457  NaN  \n",
       "1987  440  522  490  469  520  506  NaN  \n",
       "1988  529  520  475  485  552  459  NaN  \n",
       "1989  522  558  474  477  579  504  NaN  \n",
       "1990  450  500  461  485  525  510  NaN  \n",
       "1991  455  539  480  506  552  478  NaN  \n",
       "1992  451  515  485  463  504  507  NaN  \n",
       "1993  539  546  482  514  557  540  NaN  \n",
       "1994  447  485  468  491  569  452  NaN  \n",
       "1995  499  506  475  463  507  501  NaN  \n",
       "1996  454  570  476  493  465  485  NaN  \n",
       "1997  488  488  483  500  523  481  NaN  \n",
       "1998  486  529  484  473  527  485  NaN  \n",
       "1999  463  533  481  489  516  516  NaN  \n",
       "\n",
       "[2000 rows x 501 columns]>"
      ]
     },
     "execution_count": 15,
     "metadata": {},
     "output_type": "execute_result"
    }
   ],
   "source": [
    "madelon_tr.describe"
   ]
  },
  {
   "cell_type": "code",
   "execution_count": 16,
   "metadata": {
    "collapsed": true
   },
   "outputs": [],
   "source": [
    "madelon_tr = madelon_tr.drop([500], axis=1)"
   ]
  },
  {
   "cell_type": "code",
   "execution_count": 17,
   "metadata": {},
   "outputs": [
    {
     "data": {
      "text/html": [
       "<div>\n",
       "<table border=\"1\" class=\"dataframe\">\n",
       "  <thead>\n",
       "    <tr style=\"text-align: right;\">\n",
       "      <th></th>\n",
       "      <th>0</th>\n",
       "      <th>1</th>\n",
       "      <th>2</th>\n",
       "      <th>3</th>\n",
       "      <th>4</th>\n",
       "      <th>5</th>\n",
       "      <th>6</th>\n",
       "      <th>7</th>\n",
       "      <th>8</th>\n",
       "      <th>9</th>\n",
       "      <th>...</th>\n",
       "      <th>490</th>\n",
       "      <th>491</th>\n",
       "      <th>492</th>\n",
       "      <th>493</th>\n",
       "      <th>494</th>\n",
       "      <th>495</th>\n",
       "      <th>496</th>\n",
       "      <th>497</th>\n",
       "      <th>498</th>\n",
       "      <th>499</th>\n",
       "    </tr>\n",
       "  </thead>\n",
       "  <tbody>\n",
       "    <tr>\n",
       "      <th>0</th>\n",
       "      <td>485</td>\n",
       "      <td>477</td>\n",
       "      <td>537</td>\n",
       "      <td>479</td>\n",
       "      <td>452</td>\n",
       "      <td>471</td>\n",
       "      <td>491</td>\n",
       "      <td>476</td>\n",
       "      <td>475</td>\n",
       "      <td>473</td>\n",
       "      <td>...</td>\n",
       "      <td>477</td>\n",
       "      <td>481</td>\n",
       "      <td>477</td>\n",
       "      <td>485</td>\n",
       "      <td>511</td>\n",
       "      <td>485</td>\n",
       "      <td>481</td>\n",
       "      <td>479</td>\n",
       "      <td>475</td>\n",
       "      <td>496</td>\n",
       "    </tr>\n",
       "    <tr>\n",
       "      <th>1</th>\n",
       "      <td>483</td>\n",
       "      <td>458</td>\n",
       "      <td>460</td>\n",
       "      <td>487</td>\n",
       "      <td>587</td>\n",
       "      <td>475</td>\n",
       "      <td>526</td>\n",
       "      <td>479</td>\n",
       "      <td>485</td>\n",
       "      <td>469</td>\n",
       "      <td>...</td>\n",
       "      <td>463</td>\n",
       "      <td>478</td>\n",
       "      <td>487</td>\n",
       "      <td>338</td>\n",
       "      <td>513</td>\n",
       "      <td>486</td>\n",
       "      <td>483</td>\n",
       "      <td>492</td>\n",
       "      <td>510</td>\n",
       "      <td>517</td>\n",
       "    </tr>\n",
       "    <tr>\n",
       "      <th>2</th>\n",
       "      <td>487</td>\n",
       "      <td>542</td>\n",
       "      <td>499</td>\n",
       "      <td>468</td>\n",
       "      <td>448</td>\n",
       "      <td>471</td>\n",
       "      <td>442</td>\n",
       "      <td>478</td>\n",
       "      <td>480</td>\n",
       "      <td>477</td>\n",
       "      <td>...</td>\n",
       "      <td>487</td>\n",
       "      <td>481</td>\n",
       "      <td>492</td>\n",
       "      <td>650</td>\n",
       "      <td>506</td>\n",
       "      <td>501</td>\n",
       "      <td>480</td>\n",
       "      <td>489</td>\n",
       "      <td>499</td>\n",
       "      <td>498</td>\n",
       "    </tr>\n",
       "    <tr>\n",
       "      <th>3</th>\n",
       "      <td>480</td>\n",
       "      <td>491</td>\n",
       "      <td>510</td>\n",
       "      <td>485</td>\n",
       "      <td>495</td>\n",
       "      <td>472</td>\n",
       "      <td>417</td>\n",
       "      <td>474</td>\n",
       "      <td>502</td>\n",
       "      <td>476</td>\n",
       "      <td>...</td>\n",
       "      <td>491</td>\n",
       "      <td>480</td>\n",
       "      <td>474</td>\n",
       "      <td>572</td>\n",
       "      <td>454</td>\n",
       "      <td>469</td>\n",
       "      <td>475</td>\n",
       "      <td>482</td>\n",
       "      <td>494</td>\n",
       "      <td>461</td>\n",
       "    </tr>\n",
       "    <tr>\n",
       "      <th>4</th>\n",
       "      <td>484</td>\n",
       "      <td>502</td>\n",
       "      <td>528</td>\n",
       "      <td>489</td>\n",
       "      <td>466</td>\n",
       "      <td>481</td>\n",
       "      <td>402</td>\n",
       "      <td>478</td>\n",
       "      <td>487</td>\n",
       "      <td>468</td>\n",
       "      <td>...</td>\n",
       "      <td>488</td>\n",
       "      <td>479</td>\n",
       "      <td>452</td>\n",
       "      <td>435</td>\n",
       "      <td>486</td>\n",
       "      <td>508</td>\n",
       "      <td>481</td>\n",
       "      <td>504</td>\n",
       "      <td>495</td>\n",
       "      <td>511</td>\n",
       "    </tr>\n",
       "  </tbody>\n",
       "</table>\n",
       "<p>5 rows × 500 columns</p>\n",
       "</div>"
      ],
      "text/plain": [
       "   0    1    2    3    4    5    6    7    8    9   ...   490  491  492  493  \\\n",
       "0  485  477  537  479  452  471  491  476  475  473 ...   477  481  477  485   \n",
       "1  483  458  460  487  587  475  526  479  485  469 ...   463  478  487  338   \n",
       "2  487  542  499  468  448  471  442  478  480  477 ...   487  481  492  650   \n",
       "3  480  491  510  485  495  472  417  474  502  476 ...   491  480  474  572   \n",
       "4  484  502  528  489  466  481  402  478  487  468 ...   488  479  452  435   \n",
       "\n",
       "   494  495  496  497  498  499  \n",
       "0  511  485  481  479  475  496  \n",
       "1  513  486  483  492  510  517  \n",
       "2  506  501  480  489  499  498  \n",
       "3  454  469  475  482  494  461  \n",
       "4  486  508  481  504  495  511  \n",
       "\n",
       "[5 rows x 500 columns]"
      ]
     },
     "execution_count": 17,
     "metadata": {},
     "output_type": "execute_result"
    }
   ],
   "source": [
    "madelon_tr.head()"
   ]
  },
  {
   "cell_type": "code",
   "execution_count": 18,
   "metadata": {
    "collapsed": true,
    "scrolled": true
   },
   "outputs": [],
   "source": [
    "madelon_tr_labels = madelon_tr_labels.rename(columns={0: 'labels'})"
   ]
  },
  {
   "cell_type": "code",
   "execution_count": 19,
   "metadata": {},
   "outputs": [
    {
     "data": {
      "text/html": [
       "<div>\n",
       "<table border=\"1\" class=\"dataframe\">\n",
       "  <thead>\n",
       "    <tr style=\"text-align: right;\">\n",
       "      <th></th>\n",
       "      <th>labels</th>\n",
       "    </tr>\n",
       "  </thead>\n",
       "  <tbody>\n",
       "    <tr>\n",
       "      <th>0</th>\n",
       "      <td>-1</td>\n",
       "    </tr>\n",
       "    <tr>\n",
       "      <th>1</th>\n",
       "      <td>-1</td>\n",
       "    </tr>\n",
       "    <tr>\n",
       "      <th>2</th>\n",
       "      <td>-1</td>\n",
       "    </tr>\n",
       "    <tr>\n",
       "      <th>3</th>\n",
       "      <td>1</td>\n",
       "    </tr>\n",
       "    <tr>\n",
       "      <th>4</th>\n",
       "      <td>1</td>\n",
       "    </tr>\n",
       "  </tbody>\n",
       "</table>\n",
       "</div>"
      ],
      "text/plain": [
       "   labels\n",
       "0      -1\n",
       "1      -1\n",
       "2      -1\n",
       "3       1\n",
       "4       1"
      ]
     },
     "execution_count": 19,
     "metadata": {},
     "output_type": "execute_result"
    }
   ],
   "source": [
    "madelon_tr_labels.head()"
   ]
  },
  {
   "cell_type": "code",
   "execution_count": 20,
   "metadata": {
    "collapsed": true
   },
   "outputs": [],
   "source": [
    "madelon_tr_labels = madelon_tr_labels.rename(columns={0: 'labels'})\n",
    "madelon_tr = pd.concat([madelon_tr, madelon_tr_labels], axis=1)"
   ]
  },
  {
   "cell_type": "code",
   "execution_count": 21,
   "metadata": {},
   "outputs": [
    {
     "data": {
      "text/html": [
       "<div>\n",
       "<table border=\"1\" class=\"dataframe\">\n",
       "  <thead>\n",
       "    <tr style=\"text-align: right;\">\n",
       "      <th></th>\n",
       "      <th>0</th>\n",
       "      <th>1</th>\n",
       "      <th>2</th>\n",
       "      <th>3</th>\n",
       "      <th>4</th>\n",
       "      <th>5</th>\n",
       "      <th>6</th>\n",
       "      <th>7</th>\n",
       "      <th>8</th>\n",
       "      <th>9</th>\n",
       "      <th>...</th>\n",
       "      <th>491</th>\n",
       "      <th>492</th>\n",
       "      <th>493</th>\n",
       "      <th>494</th>\n",
       "      <th>495</th>\n",
       "      <th>496</th>\n",
       "      <th>497</th>\n",
       "      <th>498</th>\n",
       "      <th>499</th>\n",
       "      <th>labels</th>\n",
       "    </tr>\n",
       "  </thead>\n",
       "  <tbody>\n",
       "    <tr>\n",
       "      <th>0</th>\n",
       "      <td>485</td>\n",
       "      <td>477</td>\n",
       "      <td>537</td>\n",
       "      <td>479</td>\n",
       "      <td>452</td>\n",
       "      <td>471</td>\n",
       "      <td>491</td>\n",
       "      <td>476</td>\n",
       "      <td>475</td>\n",
       "      <td>473</td>\n",
       "      <td>...</td>\n",
       "      <td>481</td>\n",
       "      <td>477</td>\n",
       "      <td>485</td>\n",
       "      <td>511</td>\n",
       "      <td>485</td>\n",
       "      <td>481</td>\n",
       "      <td>479</td>\n",
       "      <td>475</td>\n",
       "      <td>496</td>\n",
       "      <td>-1</td>\n",
       "    </tr>\n",
       "    <tr>\n",
       "      <th>1</th>\n",
       "      <td>483</td>\n",
       "      <td>458</td>\n",
       "      <td>460</td>\n",
       "      <td>487</td>\n",
       "      <td>587</td>\n",
       "      <td>475</td>\n",
       "      <td>526</td>\n",
       "      <td>479</td>\n",
       "      <td>485</td>\n",
       "      <td>469</td>\n",
       "      <td>...</td>\n",
       "      <td>478</td>\n",
       "      <td>487</td>\n",
       "      <td>338</td>\n",
       "      <td>513</td>\n",
       "      <td>486</td>\n",
       "      <td>483</td>\n",
       "      <td>492</td>\n",
       "      <td>510</td>\n",
       "      <td>517</td>\n",
       "      <td>-1</td>\n",
       "    </tr>\n",
       "    <tr>\n",
       "      <th>2</th>\n",
       "      <td>487</td>\n",
       "      <td>542</td>\n",
       "      <td>499</td>\n",
       "      <td>468</td>\n",
       "      <td>448</td>\n",
       "      <td>471</td>\n",
       "      <td>442</td>\n",
       "      <td>478</td>\n",
       "      <td>480</td>\n",
       "      <td>477</td>\n",
       "      <td>...</td>\n",
       "      <td>481</td>\n",
       "      <td>492</td>\n",
       "      <td>650</td>\n",
       "      <td>506</td>\n",
       "      <td>501</td>\n",
       "      <td>480</td>\n",
       "      <td>489</td>\n",
       "      <td>499</td>\n",
       "      <td>498</td>\n",
       "      <td>-1</td>\n",
       "    </tr>\n",
       "    <tr>\n",
       "      <th>3</th>\n",
       "      <td>480</td>\n",
       "      <td>491</td>\n",
       "      <td>510</td>\n",
       "      <td>485</td>\n",
       "      <td>495</td>\n",
       "      <td>472</td>\n",
       "      <td>417</td>\n",
       "      <td>474</td>\n",
       "      <td>502</td>\n",
       "      <td>476</td>\n",
       "      <td>...</td>\n",
       "      <td>480</td>\n",
       "      <td>474</td>\n",
       "      <td>572</td>\n",
       "      <td>454</td>\n",
       "      <td>469</td>\n",
       "      <td>475</td>\n",
       "      <td>482</td>\n",
       "      <td>494</td>\n",
       "      <td>461</td>\n",
       "      <td>1</td>\n",
       "    </tr>\n",
       "    <tr>\n",
       "      <th>4</th>\n",
       "      <td>484</td>\n",
       "      <td>502</td>\n",
       "      <td>528</td>\n",
       "      <td>489</td>\n",
       "      <td>466</td>\n",
       "      <td>481</td>\n",
       "      <td>402</td>\n",
       "      <td>478</td>\n",
       "      <td>487</td>\n",
       "      <td>468</td>\n",
       "      <td>...</td>\n",
       "      <td>479</td>\n",
       "      <td>452</td>\n",
       "      <td>435</td>\n",
       "      <td>486</td>\n",
       "      <td>508</td>\n",
       "      <td>481</td>\n",
       "      <td>504</td>\n",
       "      <td>495</td>\n",
       "      <td>511</td>\n",
       "      <td>1</td>\n",
       "    </tr>\n",
       "  </tbody>\n",
       "</table>\n",
       "<p>5 rows × 501 columns</p>\n",
       "</div>"
      ],
      "text/plain": [
       "     0    1    2    3    4    5    6    7    8    9   ...    491  492  493  \\\n",
       "0  485  477  537  479  452  471  491  476  475  473   ...    481  477  485   \n",
       "1  483  458  460  487  587  475  526  479  485  469   ...    478  487  338   \n",
       "2  487  542  499  468  448  471  442  478  480  477   ...    481  492  650   \n",
       "3  480  491  510  485  495  472  417  474  502  476   ...    480  474  572   \n",
       "4  484  502  528  489  466  481  402  478  487  468   ...    479  452  435   \n",
       "\n",
       "   494  495  496  497  498  499  labels  \n",
       "0  511  485  481  479  475  496      -1  \n",
       "1  513  486  483  492  510  517      -1  \n",
       "2  506  501  480  489  499  498      -1  \n",
       "3  454  469  475  482  494  461       1  \n",
       "4  486  508  481  504  495  511       1  \n",
       "\n",
       "[5 rows x 501 columns]"
      ]
     },
     "execution_count": 21,
     "metadata": {},
     "output_type": "execute_result"
    }
   ],
   "source": [
    "madelon_tr.head()"
   ]
  },
  {
   "cell_type": "markdown",
   "metadata": {},
   "source": [
    "10% of the train dataset is 200 rows. Sampling with that size first, will see what kind of models I get and then decide if I need to change the sample size."
   ]
  },
  {
   "cell_type": "code",
   "execution_count": 22,
   "metadata": {},
   "outputs": [
    {
     "data": {
      "text/html": [
       "<div>\n",
       "<table border=\"1\" class=\"dataframe\">\n",
       "  <thead>\n",
       "    <tr style=\"text-align: right;\">\n",
       "      <th></th>\n",
       "      <th>0</th>\n",
       "      <th>1</th>\n",
       "      <th>2</th>\n",
       "      <th>3</th>\n",
       "      <th>4</th>\n",
       "      <th>5</th>\n",
       "      <th>6</th>\n",
       "      <th>7</th>\n",
       "      <th>8</th>\n",
       "      <th>9</th>\n",
       "      <th>...</th>\n",
       "      <th>491</th>\n",
       "      <th>492</th>\n",
       "      <th>493</th>\n",
       "      <th>494</th>\n",
       "      <th>495</th>\n",
       "      <th>496</th>\n",
       "      <th>497</th>\n",
       "      <th>498</th>\n",
       "      <th>499</th>\n",
       "      <th>labels</th>\n",
       "    </tr>\n",
       "  </thead>\n",
       "  <tbody>\n",
       "    <tr>\n",
       "      <th>86</th>\n",
       "      <td>487</td>\n",
       "      <td>451</td>\n",
       "      <td>556</td>\n",
       "      <td>487</td>\n",
       "      <td>513</td>\n",
       "      <td>487</td>\n",
       "      <td>462</td>\n",
       "      <td>475</td>\n",
       "      <td>480</td>\n",
       "      <td>464</td>\n",
       "      <td>...</td>\n",
       "      <td>475</td>\n",
       "      <td>520</td>\n",
       "      <td>745</td>\n",
       "      <td>489</td>\n",
       "      <td>487</td>\n",
       "      <td>481</td>\n",
       "      <td>474</td>\n",
       "      <td>543</td>\n",
       "      <td>455</td>\n",
       "      <td>1</td>\n",
       "    </tr>\n",
       "    <tr>\n",
       "      <th>1649</th>\n",
       "      <td>473</td>\n",
       "      <td>466</td>\n",
       "      <td>539</td>\n",
       "      <td>487</td>\n",
       "      <td>606</td>\n",
       "      <td>481</td>\n",
       "      <td>494</td>\n",
       "      <td>474</td>\n",
       "      <td>469</td>\n",
       "      <td>472</td>\n",
       "      <td>...</td>\n",
       "      <td>480</td>\n",
       "      <td>470</td>\n",
       "      <td>380</td>\n",
       "      <td>549</td>\n",
       "      <td>614</td>\n",
       "      <td>481</td>\n",
       "      <td>495</td>\n",
       "      <td>536</td>\n",
       "      <td>465</td>\n",
       "      <td>1</td>\n",
       "    </tr>\n",
       "    <tr>\n",
       "      <th>339</th>\n",
       "      <td>487</td>\n",
       "      <td>457</td>\n",
       "      <td>454</td>\n",
       "      <td>490</td>\n",
       "      <td>467</td>\n",
       "      <td>470</td>\n",
       "      <td>417</td>\n",
       "      <td>476</td>\n",
       "      <td>473</td>\n",
       "      <td>474</td>\n",
       "      <td>...</td>\n",
       "      <td>474</td>\n",
       "      <td>505</td>\n",
       "      <td>397</td>\n",
       "      <td>473</td>\n",
       "      <td>492</td>\n",
       "      <td>485</td>\n",
       "      <td>472</td>\n",
       "      <td>539</td>\n",
       "      <td>488</td>\n",
       "      <td>1</td>\n",
       "    </tr>\n",
       "    <tr>\n",
       "      <th>208</th>\n",
       "      <td>475</td>\n",
       "      <td>489</td>\n",
       "      <td>513</td>\n",
       "      <td>494</td>\n",
       "      <td>481</td>\n",
       "      <td>477</td>\n",
       "      <td>448</td>\n",
       "      <td>476</td>\n",
       "      <td>488</td>\n",
       "      <td>479</td>\n",
       "      <td>...</td>\n",
       "      <td>483</td>\n",
       "      <td>482</td>\n",
       "      <td>549</td>\n",
       "      <td>520</td>\n",
       "      <td>458</td>\n",
       "      <td>483</td>\n",
       "      <td>503</td>\n",
       "      <td>473</td>\n",
       "      <td>501</td>\n",
       "      <td>-1</td>\n",
       "    </tr>\n",
       "    <tr>\n",
       "      <th>672</th>\n",
       "      <td>483</td>\n",
       "      <td>440</td>\n",
       "      <td>617</td>\n",
       "      <td>466</td>\n",
       "      <td>509</td>\n",
       "      <td>483</td>\n",
       "      <td>490</td>\n",
       "      <td>476</td>\n",
       "      <td>499</td>\n",
       "      <td>479</td>\n",
       "      <td>...</td>\n",
       "      <td>480</td>\n",
       "      <td>538</td>\n",
       "      <td>650</td>\n",
       "      <td>435</td>\n",
       "      <td>472</td>\n",
       "      <td>471</td>\n",
       "      <td>474</td>\n",
       "      <td>556</td>\n",
       "      <td>462</td>\n",
       "      <td>-1</td>\n",
       "    </tr>\n",
       "  </tbody>\n",
       "</table>\n",
       "<p>5 rows × 501 columns</p>\n",
       "</div>"
      ],
      "text/plain": [
       "        0    1    2    3    4    5    6    7    8    9   ...    491  492  493  \\\n",
       "86    487  451  556  487  513  487  462  475  480  464   ...    475  520  745   \n",
       "1649  473  466  539  487  606  481  494  474  469  472   ...    480  470  380   \n",
       "339   487  457  454  490  467  470  417  476  473  474   ...    474  505  397   \n",
       "208   475  489  513  494  481  477  448  476  488  479   ...    483  482  549   \n",
       "672   483  440  617  466  509  483  490  476  499  479   ...    480  538  650   \n",
       "\n",
       "      494  495  496  497  498  499  labels  \n",
       "86    489  487  481  474  543  455       1  \n",
       "1649  549  614  481  495  536  465       1  \n",
       "339   473  492  485  472  539  488       1  \n",
       "208   520  458  483  503  473  501      -1  \n",
       "672   435  472  471  474  556  462      -1  \n",
       "\n",
       "[5 rows x 501 columns]"
      ]
     },
     "execution_count": 22,
     "metadata": {},
     "output_type": "execute_result"
    }
   ],
   "source": [
    "madelon_tr_s1 = madelon_tr.sample(200)\n",
    "madelon_tr_s1.head()"
   ]
  },
  {
   "cell_type": "code",
   "execution_count": 23,
   "metadata": {},
   "outputs": [
    {
     "data": {
      "text/plain": [
       "(200, 501)"
      ]
     },
     "execution_count": 23,
     "metadata": {},
     "output_type": "execute_result"
    }
   ],
   "source": [
    "madelon_tr_s1.shape"
   ]
  },
  {
   "cell_type": "code",
   "execution_count": 24,
   "metadata": {
    "scrolled": true
   },
   "outputs": [
    {
     "data": {
      "text/html": [
       "<div>\n",
       "<table border=\"1\" class=\"dataframe\">\n",
       "  <thead>\n",
       "    <tr style=\"text-align: right;\">\n",
       "      <th></th>\n",
       "      <th>0</th>\n",
       "      <th>1</th>\n",
       "      <th>2</th>\n",
       "      <th>3</th>\n",
       "      <th>4</th>\n",
       "      <th>5</th>\n",
       "      <th>6</th>\n",
       "      <th>7</th>\n",
       "      <th>8</th>\n",
       "      <th>9</th>\n",
       "      <th>...</th>\n",
       "      <th>491</th>\n",
       "      <th>492</th>\n",
       "      <th>493</th>\n",
       "      <th>494</th>\n",
       "      <th>495</th>\n",
       "      <th>496</th>\n",
       "      <th>497</th>\n",
       "      <th>498</th>\n",
       "      <th>499</th>\n",
       "      <th>labels</th>\n",
       "    </tr>\n",
       "  </thead>\n",
       "  <tbody>\n",
       "    <tr>\n",
       "      <th>1494</th>\n",
       "      <td>487</td>\n",
       "      <td>433</td>\n",
       "      <td>542</td>\n",
       "      <td>476</td>\n",
       "      <td>536</td>\n",
       "      <td>483</td>\n",
       "      <td>460</td>\n",
       "      <td>475</td>\n",
       "      <td>491</td>\n",
       "      <td>474</td>\n",
       "      <td>...</td>\n",
       "      <td>482</td>\n",
       "      <td>526</td>\n",
       "      <td>680</td>\n",
       "      <td>494</td>\n",
       "      <td>524</td>\n",
       "      <td>486</td>\n",
       "      <td>509</td>\n",
       "      <td>551</td>\n",
       "      <td>483</td>\n",
       "      <td>1</td>\n",
       "    </tr>\n",
       "    <tr>\n",
       "      <th>109</th>\n",
       "      <td>485</td>\n",
       "      <td>503</td>\n",
       "      <td>556</td>\n",
       "      <td>488</td>\n",
       "      <td>489</td>\n",
       "      <td>476</td>\n",
       "      <td>475</td>\n",
       "      <td>477</td>\n",
       "      <td>514</td>\n",
       "      <td>492</td>\n",
       "      <td>...</td>\n",
       "      <td>477</td>\n",
       "      <td>498</td>\n",
       "      <td>647</td>\n",
       "      <td>491</td>\n",
       "      <td>501</td>\n",
       "      <td>484</td>\n",
       "      <td>479</td>\n",
       "      <td>500</td>\n",
       "      <td>472</td>\n",
       "      <td>1</td>\n",
       "    </tr>\n",
       "    <tr>\n",
       "      <th>710</th>\n",
       "      <td>479</td>\n",
       "      <td>489</td>\n",
       "      <td>473</td>\n",
       "      <td>477</td>\n",
       "      <td>483</td>\n",
       "      <td>473</td>\n",
       "      <td>404</td>\n",
       "      <td>474</td>\n",
       "      <td>493</td>\n",
       "      <td>478</td>\n",
       "      <td>...</td>\n",
       "      <td>483</td>\n",
       "      <td>498</td>\n",
       "      <td>326</td>\n",
       "      <td>475</td>\n",
       "      <td>507</td>\n",
       "      <td>490</td>\n",
       "      <td>474</td>\n",
       "      <td>504</td>\n",
       "      <td>467</td>\n",
       "      <td>1</td>\n",
       "    </tr>\n",
       "    <tr>\n",
       "      <th>833</th>\n",
       "      <td>477</td>\n",
       "      <td>509</td>\n",
       "      <td>460</td>\n",
       "      <td>481</td>\n",
       "      <td>474</td>\n",
       "      <td>464</td>\n",
       "      <td>525</td>\n",
       "      <td>476</td>\n",
       "      <td>510</td>\n",
       "      <td>473</td>\n",
       "      <td>...</td>\n",
       "      <td>480</td>\n",
       "      <td>448</td>\n",
       "      <td>620</td>\n",
       "      <td>450</td>\n",
       "      <td>526</td>\n",
       "      <td>475</td>\n",
       "      <td>502</td>\n",
       "      <td>507</td>\n",
       "      <td>492</td>\n",
       "      <td>1</td>\n",
       "    </tr>\n",
       "    <tr>\n",
       "      <th>1517</th>\n",
       "      <td>492</td>\n",
       "      <td>434</td>\n",
       "      <td>532</td>\n",
       "      <td>482</td>\n",
       "      <td>506</td>\n",
       "      <td>472</td>\n",
       "      <td>495</td>\n",
       "      <td>475</td>\n",
       "      <td>470</td>\n",
       "      <td>489</td>\n",
       "      <td>...</td>\n",
       "      <td>475</td>\n",
       "      <td>467</td>\n",
       "      <td>463</td>\n",
       "      <td>424</td>\n",
       "      <td>439</td>\n",
       "      <td>484</td>\n",
       "      <td>460</td>\n",
       "      <td>558</td>\n",
       "      <td>499</td>\n",
       "      <td>1</td>\n",
       "    </tr>\n",
       "  </tbody>\n",
       "</table>\n",
       "<p>5 rows × 501 columns</p>\n",
       "</div>"
      ],
      "text/plain": [
       "        0    1    2    3    4    5    6    7    8    9   ...    491  492  493  \\\n",
       "1494  487  433  542  476  536  483  460  475  491  474   ...    482  526  680   \n",
       "109   485  503  556  488  489  476  475  477  514  492   ...    477  498  647   \n",
       "710   479  489  473  477  483  473  404  474  493  478   ...    483  498  326   \n",
       "833   477  509  460  481  474  464  525  476  510  473   ...    480  448  620   \n",
       "1517  492  434  532  482  506  472  495  475  470  489   ...    475  467  463   \n",
       "\n",
       "      494  495  496  497  498  499  labels  \n",
       "1494  494  524  486  509  551  483       1  \n",
       "109   491  501  484  479  500  472       1  \n",
       "710   475  507  490  474  504  467       1  \n",
       "833   450  526  475  502  507  492       1  \n",
       "1517  424  439  484  460  558  499       1  \n",
       "\n",
       "[5 rows x 501 columns]"
      ]
     },
     "execution_count": 24,
     "metadata": {},
     "output_type": "execute_result"
    }
   ],
   "source": [
    "madelon_tr_s2 = madelon_tr.sample(200)\n",
    "madelon_tr_s2.head()"
   ]
  },
  {
   "cell_type": "code",
   "execution_count": 25,
   "metadata": {},
   "outputs": [
    {
     "data": {
      "text/plain": [
       "(200, 501)"
      ]
     },
     "execution_count": 25,
     "metadata": {},
     "output_type": "execute_result"
    }
   ],
   "source": [
    "madelon_tr_s2.shape"
   ]
  },
  {
   "cell_type": "code",
   "execution_count": 26,
   "metadata": {},
   "outputs": [
    {
     "data": {
      "text/html": [
       "<div>\n",
       "<table border=\"1\" class=\"dataframe\">\n",
       "  <thead>\n",
       "    <tr style=\"text-align: right;\">\n",
       "      <th></th>\n",
       "      <th>0</th>\n",
       "      <th>1</th>\n",
       "      <th>2</th>\n",
       "      <th>3</th>\n",
       "      <th>4</th>\n",
       "      <th>5</th>\n",
       "      <th>6</th>\n",
       "      <th>7</th>\n",
       "      <th>8</th>\n",
       "      <th>9</th>\n",
       "      <th>...</th>\n",
       "      <th>491</th>\n",
       "      <th>492</th>\n",
       "      <th>493</th>\n",
       "      <th>494</th>\n",
       "      <th>495</th>\n",
       "      <th>496</th>\n",
       "      <th>497</th>\n",
       "      <th>498</th>\n",
       "      <th>499</th>\n",
       "      <th>labels</th>\n",
       "    </tr>\n",
       "  </thead>\n",
       "  <tbody>\n",
       "    <tr>\n",
       "      <th>449</th>\n",
       "      <td>484</td>\n",
       "      <td>469</td>\n",
       "      <td>487</td>\n",
       "      <td>468</td>\n",
       "      <td>572</td>\n",
       "      <td>470</td>\n",
       "      <td>520</td>\n",
       "      <td>475</td>\n",
       "      <td>513</td>\n",
       "      <td>480</td>\n",
       "      <td>...</td>\n",
       "      <td>481</td>\n",
       "      <td>431</td>\n",
       "      <td>417</td>\n",
       "      <td>541</td>\n",
       "      <td>466</td>\n",
       "      <td>480</td>\n",
       "      <td>499</td>\n",
       "      <td>501</td>\n",
       "      <td>499</td>\n",
       "      <td>1</td>\n",
       "    </tr>\n",
       "    <tr>\n",
       "      <th>1161</th>\n",
       "      <td>471</td>\n",
       "      <td>487</td>\n",
       "      <td>480</td>\n",
       "      <td>487</td>\n",
       "      <td>407</td>\n",
       "      <td>486</td>\n",
       "      <td>452</td>\n",
       "      <td>474</td>\n",
       "      <td>489</td>\n",
       "      <td>466</td>\n",
       "      <td>...</td>\n",
       "      <td>479</td>\n",
       "      <td>448</td>\n",
       "      <td>730</td>\n",
       "      <td>484</td>\n",
       "      <td>470</td>\n",
       "      <td>484</td>\n",
       "      <td>490</td>\n",
       "      <td>480</td>\n",
       "      <td>489</td>\n",
       "      <td>-1</td>\n",
       "    </tr>\n",
       "    <tr>\n",
       "      <th>778</th>\n",
       "      <td>490</td>\n",
       "      <td>472</td>\n",
       "      <td>445</td>\n",
       "      <td>492</td>\n",
       "      <td>414</td>\n",
       "      <td>478</td>\n",
       "      <td>483</td>\n",
       "      <td>474</td>\n",
       "      <td>480</td>\n",
       "      <td>479</td>\n",
       "      <td>...</td>\n",
       "      <td>470</td>\n",
       "      <td>482</td>\n",
       "      <td>433</td>\n",
       "      <td>495</td>\n",
       "      <td>541</td>\n",
       "      <td>475</td>\n",
       "      <td>485</td>\n",
       "      <td>550</td>\n",
       "      <td>503</td>\n",
       "      <td>1</td>\n",
       "    </tr>\n",
       "    <tr>\n",
       "      <th>1403</th>\n",
       "      <td>487</td>\n",
       "      <td>548</td>\n",
       "      <td>461</td>\n",
       "      <td>498</td>\n",
       "      <td>576</td>\n",
       "      <td>476</td>\n",
       "      <td>473</td>\n",
       "      <td>474</td>\n",
       "      <td>508</td>\n",
       "      <td>481</td>\n",
       "      <td>...</td>\n",
       "      <td>481</td>\n",
       "      <td>492</td>\n",
       "      <td>420</td>\n",
       "      <td>427</td>\n",
       "      <td>549</td>\n",
       "      <td>479</td>\n",
       "      <td>464</td>\n",
       "      <td>437</td>\n",
       "      <td>558</td>\n",
       "      <td>1</td>\n",
       "    </tr>\n",
       "    <tr>\n",
       "      <th>1822</th>\n",
       "      <td>478</td>\n",
       "      <td>455</td>\n",
       "      <td>483</td>\n",
       "      <td>488</td>\n",
       "      <td>530</td>\n",
       "      <td>481</td>\n",
       "      <td>441</td>\n",
       "      <td>475</td>\n",
       "      <td>485</td>\n",
       "      <td>470</td>\n",
       "      <td>...</td>\n",
       "      <td>482</td>\n",
       "      <td>514</td>\n",
       "      <td>569</td>\n",
       "      <td>528</td>\n",
       "      <td>545</td>\n",
       "      <td>477</td>\n",
       "      <td>487</td>\n",
       "      <td>498</td>\n",
       "      <td>472</td>\n",
       "      <td>1</td>\n",
       "    </tr>\n",
       "  </tbody>\n",
       "</table>\n",
       "<p>5 rows × 501 columns</p>\n",
       "</div>"
      ],
      "text/plain": [
       "        0    1    2    3    4    5    6    7    8    9   ...    491  492  493  \\\n",
       "449   484  469  487  468  572  470  520  475  513  480   ...    481  431  417   \n",
       "1161  471  487  480  487  407  486  452  474  489  466   ...    479  448  730   \n",
       "778   490  472  445  492  414  478  483  474  480  479   ...    470  482  433   \n",
       "1403  487  548  461  498  576  476  473  474  508  481   ...    481  492  420   \n",
       "1822  478  455  483  488  530  481  441  475  485  470   ...    482  514  569   \n",
       "\n",
       "      494  495  496  497  498  499  labels  \n",
       "449   541  466  480  499  501  499       1  \n",
       "1161  484  470  484  490  480  489      -1  \n",
       "778   495  541  475  485  550  503       1  \n",
       "1403  427  549  479  464  437  558       1  \n",
       "1822  528  545  477  487  498  472       1  \n",
       "\n",
       "[5 rows x 501 columns]"
      ]
     },
     "execution_count": 26,
     "metadata": {},
     "output_type": "execute_result"
    }
   ],
   "source": [
    "madelon_tr_s3 = madelon_tr.sample(200)\n",
    "madelon_tr_s3.head()"
   ]
  },
  {
   "cell_type": "code",
   "execution_count": 27,
   "metadata": {},
   "outputs": [
    {
     "data": {
      "text/plain": [
       "(200, 501)"
      ]
     },
     "execution_count": 27,
     "metadata": {},
     "output_type": "execute_result"
    }
   ],
   "source": [
    "madelon_tr_s3.shape"
   ]
  },
  {
   "cell_type": "markdown",
   "metadata": {},
   "source": [
    "now i have my three samples, i can start to try and figure out which columns/features are noise."
   ]
  },
  {
   "cell_type": "code",
   "execution_count": 28,
   "metadata": {
    "collapsed": true
   },
   "outputs": [],
   "source": [
    "from sklearn.model_selection import train_test_split\n",
    "from sklearn.neighbors import KNeighborsRegressor\n",
    "from sklearn.preprocessing import StandardScaler\n",
    "from sklearn.tree import DecisionTreeRegressor"
   ]
  },
  {
   "cell_type": "markdown",
   "metadata": {},
   "source": [
    "Function to get the benchmark score for each regressor first."
   ]
  },
  {
   "cell_type": "code",
   "execution_count": 29,
   "metadata": {
    "collapsed": true
   },
   "outputs": [],
   "source": [
    "# only difference between this function and the next calculate r2 function is that this one is not scaled\n",
    "# I am calculating the benchmark score for each model \n",
    "def calculate_r2_for_feature_benchmark(data, feature, regressor):\n",
    "    new_data = data.drop(feature, axis=1)\n",
    "\n",
    "    X_train, \\\n",
    "    X_test,  \\\n",
    "    y_train, \\\n",
    "    y_test = train_test_split(\n",
    "        new_data,data[feature],test_size=0.25\n",
    "    )\n",
    "    \n",
    "    regressor = regressor()\n",
    "    regressor.fit(X_train, y_train)\n",
    "\n",
    "    score = regressor.score(X_test, y_test)\n",
    "    return score"
   ]
  },
  {
   "cell_type": "code",
   "execution_count": 30,
   "metadata": {
    "collapsed": true
   },
   "outputs": [],
   "source": [
    "# starting with a range of 50, can change up or down later to see if taking more scores gives me a better result.\n",
    "def mean_r2_for_feature_benchmark(data, feature, regressor):\n",
    "    scores = []\n",
    "    for _ in range(50):\n",
    "        scores.append(calculate_r2_for_feature_benchmark(data, feature, regressor))\n",
    "        \n",
    "    scores = np.array(scores)\n",
    "    return scores.mean()"
   ]
  },
  {
   "cell_type": "code",
   "execution_count": 31,
   "metadata": {
    "collapsed": true
   },
   "outputs": [],
   "source": [
    "def calculate_r2_for_feature(data, feature, regressor):\n",
    "    new_data = data.drop(feature, axis=1)\n",
    "\n",
    "    X_train, \\\n",
    "    X_test,  \\\n",
    "    y_train, \\\n",
    "    y_test = train_test_split(\n",
    "        new_data,data[feature],test_size=0.25\n",
    "    )\n",
    "\n",
    "    scaler = StandardScaler()\n",
    "    scaler.fit(X_train, y_train)\n",
    "    X_tr_sc = scaler.transform(X_train, y_train)\n",
    "    X_ts_sc = scaler.transform(X_test, y_test)\n",
    "    \n",
    "    regressor = regressor()\n",
    "    regressor.fit(X_tr_sc, y_train)\n",
    "\n",
    "    score = regressor.score(X_ts_sc, y_test)\n",
    "    return score"
   ]
  },
  {
   "cell_type": "code",
   "execution_count": 32,
   "metadata": {
    "collapsed": true
   },
   "outputs": [],
   "source": [
    "def mean_r2_for_feature(data, feature, regressor):\n",
    "    scores = []\n",
    "    for _ in range(200):\n",
    "        scores.append(calculate_r2_for_feature(data, feature, regressor))\n",
    "        \n",
    "    scores = np.array(scores)\n",
    "    return scores.mean()"
   ]
  },
  {
   "cell_type": "code",
   "execution_count": 33,
   "metadata": {},
   "outputs": [
    {
     "data": {
      "text/plain": [
       "-0.12669447340980189"
      ]
     },
     "execution_count": 33,
     "metadata": {},
     "output_type": "execute_result"
    }
   ],
   "source": [
    "calculate_r2_for_feature_benchmark(madelon_tr_s1, 0, KNeighborsRegressor)"
   ]
  },
  {
   "cell_type": "code",
   "execution_count": 34,
   "metadata": {},
   "outputs": [
    {
     "data": {
      "text/plain": [
       "-0.13330192053986611"
      ]
     },
     "execution_count": 34,
     "metadata": {},
     "output_type": "execute_result"
    }
   ],
   "source": [
    "mean_r2_for_feature_benchmark(madelon_tr_s1, 0, KNeighborsRegressor)"
   ]
  },
  {
   "cell_type": "code",
   "execution_count": 35,
   "metadata": {},
   "outputs": [
    {
     "data": {
      "text/plain": [
       "-0.46648007326534979"
      ]
     },
     "execution_count": 35,
     "metadata": {},
     "output_type": "execute_result"
    }
   ],
   "source": [
    "calculate_r2_for_feature(madelon_tr_s1, 0, KNeighborsRegressor)"
   ]
  },
  {
   "cell_type": "code",
   "execution_count": 36,
   "metadata": {},
   "outputs": [
    {
     "data": {
      "text/plain": [
       "-0.29553638906793422"
      ]
     },
     "execution_count": 36,
     "metadata": {},
     "output_type": "execute_result"
    }
   ],
   "source": [
    "mean_r2_for_feature(madelon_tr_s1, 0, KNeighborsRegressor)"
   ]
  },
  {
   "cell_type": "markdown",
   "metadata": {},
   "source": [
    "I've determined that the functions work, now I must try and write a for loop or another function to calculate the R2 score for multiple features at a time."
   ]
  },
  {
   "cell_type": "code",
   "execution_count": 37,
   "metadata": {
    "scrolled": true
   },
   "outputs": [
    {
     "data": {
      "text/plain": [
       "Index([       0,        1,        2,        3,        4,        5,        6,\n",
       "              7,        8,        9,\n",
       "       ...\n",
       "            491,      492,      493,      494,      495,      496,      497,\n",
       "            498,      499, 'labels'],\n",
       "      dtype='object', length=501)"
      ]
     },
     "execution_count": 37,
     "metadata": {},
     "output_type": "execute_result"
    }
   ],
   "source": [
    "madelon_tr_s1.columns"
   ]
  },
  {
   "cell_type": "code",
   "execution_count": 42,
   "metadata": {
    "collapsed": true
   },
   "outputs": [],
   "source": [
    "from sklearn.pipeline import Pipeline\n",
    "from sklearn.preprocessing import MinMaxScaler, PolynomialFeatures\n",
    "from sklearn.pipeline import make_pipeline\n",
    "from sklearn.feature_selection import SelectFromModel, SelectKBest, f_regression\n",
    "from sklearn.linear_model import LogisticRegressionCV, LassoCV, ElasticNetCV, RidgeCV\n",
    "from sklearn.model_selection import GridSearchCV, ShuffleSplit, StratifiedShuffleSplit"
   ]
  },
  {
   "cell_type": "code",
   "execution_count": 73,
   "metadata": {
    "collapsed": true
   },
   "outputs": [],
   "source": [
    "KNN_bm_results = []\n",
    "for feature in madelon_tr_s1.columns:\n",
    "    mean_scores = mean_r2_for_feature_benchmark(madelon_tr_s1, feature, KNeighborsRegressor)\n",
    "    KNN_bm_results.append(mean_scores)"
   ]
  },
  {
   "cell_type": "code",
   "execution_count": 74,
   "metadata": {},
   "outputs": [
    {
     "data": {
      "text/plain": [
       "list"
      ]
     },
     "execution_count": 74,
     "metadata": {},
     "output_type": "execute_result"
    }
   ],
   "source": [
    "type(results)"
   ]
  },
  {
   "cell_type": "code",
   "execution_count": 75,
   "metadata": {
    "collapsed": true
   },
   "outputs": [],
   "source": [
    "KNN_bm_df = pd.DataFrame(KNN_bm_results)"
   ]
  },
  {
   "cell_type": "code",
   "execution_count": 76,
   "metadata": {},
   "outputs": [
    {
     "data": {
      "text/html": [
       "<div>\n",
       "<table border=\"1\" class=\"dataframe\">\n",
       "  <thead>\n",
       "    <tr style=\"text-align: right;\">\n",
       "      <th></th>\n",
       "      <th>0</th>\n",
       "    </tr>\n",
       "  </thead>\n",
       "  <tbody>\n",
       "    <tr>\n",
       "      <th>0</th>\n",
       "      <td>-0.203113</td>\n",
       "    </tr>\n",
       "    <tr>\n",
       "      <th>1</th>\n",
       "      <td>-0.290567</td>\n",
       "    </tr>\n",
       "    <tr>\n",
       "      <th>2</th>\n",
       "      <td>-0.290727</td>\n",
       "    </tr>\n",
       "    <tr>\n",
       "      <th>3</th>\n",
       "      <td>-0.118808</td>\n",
       "    </tr>\n",
       "    <tr>\n",
       "      <th>4</th>\n",
       "      <td>-0.270024</td>\n",
       "    </tr>\n",
       "  </tbody>\n",
       "</table>\n",
       "</div>"
      ],
      "text/plain": [
       "          0\n",
       "0 -0.203113\n",
       "1 -0.290567\n",
       "2 -0.290727\n",
       "3 -0.118808\n",
       "4 -0.270024"
      ]
     },
     "execution_count": 76,
     "metadata": {},
     "output_type": "execute_result"
    }
   ],
   "source": [
    "KNN_bm_df.head()"
   ]
  },
  {
   "cell_type": "code",
   "execution_count": 77,
   "metadata": {
    "scrolled": true
   },
   "outputs": [
    {
     "data": {
      "text/plain": [
       "(501, 1)"
      ]
     },
     "execution_count": 77,
     "metadata": {},
     "output_type": "execute_result"
    }
   ],
   "source": [
    "KNN_bm_df.shape"
   ]
  },
  {
   "cell_type": "markdown",
   "metadata": {},
   "source": [
    "I am not sure if this is correct, I have 501 rows representing all the features. "
   ]
  },
  {
   "cell_type": "code",
   "execution_count": 78,
   "metadata": {},
   "outputs": [
    {
     "data": {
      "text/plain": [
       "(0    0.882344\n",
       " dtype: float64, 0   -0.431565\n",
       " dtype: float64)"
      ]
     },
     "execution_count": 78,
     "metadata": {},
     "output_type": "execute_result"
    }
   ],
   "source": [
    "KNN_bm_df.max(), KNN_bm_df.min()"
   ]
  },
  {
   "cell_type": "code",
   "execution_count": 79,
   "metadata": {
    "collapsed": true
   },
   "outputs": [],
   "source": [
    "KNN_results = []\n",
    "for feature in madelon_tr_s1.columns:\n",
    "    mean_scores = mean_r2_for_feature(madelon_tr_s1, feature, KNeighborsRegressor)\n",
    "    KNN_results.append(mean_scores)"
   ]
  },
  {
   "cell_type": "code",
   "execution_count": 80,
   "metadata": {
    "collapsed": true
   },
   "outputs": [],
   "source": [
    "KNN_df = pd.DataFrame(KNN_results)"
   ]
  },
  {
   "cell_type": "code",
   "execution_count": 81,
   "metadata": {},
   "outputs": [
    {
     "data": {
      "text/html": [
       "<div>\n",
       "<table border=\"1\" class=\"dataframe\">\n",
       "  <thead>\n",
       "    <tr style=\"text-align: right;\">\n",
       "      <th></th>\n",
       "      <th>0</th>\n",
       "    </tr>\n",
       "  </thead>\n",
       "  <tbody>\n",
       "    <tr>\n",
       "      <th>0</th>\n",
       "      <td>-0.223132</td>\n",
       "    </tr>\n",
       "    <tr>\n",
       "      <th>1</th>\n",
       "      <td>-0.188511</td>\n",
       "    </tr>\n",
       "    <tr>\n",
       "      <th>2</th>\n",
       "      <td>-0.210594</td>\n",
       "    </tr>\n",
       "    <tr>\n",
       "      <th>3</th>\n",
       "      <td>-0.154254</td>\n",
       "    </tr>\n",
       "    <tr>\n",
       "      <th>4</th>\n",
       "      <td>-0.263195</td>\n",
       "    </tr>\n",
       "  </tbody>\n",
       "</table>\n",
       "</div>"
      ],
      "text/plain": [
       "          0\n",
       "0 -0.223132\n",
       "1 -0.188511\n",
       "2 -0.210594\n",
       "3 -0.154254\n",
       "4 -0.263195"
      ]
     },
     "execution_count": 81,
     "metadata": {},
     "output_type": "execute_result"
    }
   ],
   "source": [
    "KNN_df.head()"
   ]
  },
  {
   "cell_type": "code",
   "execution_count": 87,
   "metadata": {},
   "outputs": [
    {
     "data": {
      "text/plain": [
       "pandas.core.frame.DataFrame"
      ]
     },
     "execution_count": 87,
     "metadata": {},
     "output_type": "execute_result"
    }
   ],
   "source": [
    "type(KNN_df)"
   ]
  },
  {
   "cell_type": "code",
   "execution_count": 82,
   "metadata": {},
   "outputs": [
    {
     "data": {
      "text/plain": [
       "(0    0.434271\n",
       " dtype: float64, 0   -0.474347\n",
       " dtype: float64)"
      ]
     },
     "execution_count": 82,
     "metadata": {},
     "output_type": "execute_result"
    }
   ],
   "source": [
    "KNN_df.max(), KNN_df.min()"
   ]
  },
  {
   "cell_type": "markdown",
   "metadata": {},
   "source": [
    "KNN results above, benchmark and scaled. Decision Tree results below, benchmark and scaled. Remember though, Decision Tree is not a linear model."
   ]
  },
  {
   "cell_type": "code",
   "execution_count": 83,
   "metadata": {
    "collapsed": true
   },
   "outputs": [],
   "source": [
    "DT_bm_results = []\n",
    "for feature in madelon_tr_s1.columns:\n",
    "    mean_scores = mean_r2_for_feature_benchmark(madelon_tr_s1, feature, DecisionTreeRegressor)\n",
    "    DT_bm_results.append(mean_scores)"
   ]
  },
  {
   "cell_type": "code",
   "execution_count": 84,
   "metadata": {},
   "outputs": [
    {
     "data": {
      "text/html": [
       "<div>\n",
       "<table border=\"1\" class=\"dataframe\">\n",
       "  <thead>\n",
       "    <tr style=\"text-align: right;\">\n",
       "      <th></th>\n",
       "      <th>0</th>\n",
       "    </tr>\n",
       "  </thead>\n",
       "  <tbody>\n",
       "    <tr>\n",
       "      <th>0</th>\n",
       "      <td>-1.074828</td>\n",
       "    </tr>\n",
       "    <tr>\n",
       "      <th>1</th>\n",
       "      <td>-1.219728</td>\n",
       "    </tr>\n",
       "    <tr>\n",
       "      <th>2</th>\n",
       "      <td>-1.296071</td>\n",
       "    </tr>\n",
       "    <tr>\n",
       "      <th>3</th>\n",
       "      <td>-1.155142</td>\n",
       "    </tr>\n",
       "    <tr>\n",
       "      <th>4</th>\n",
       "      <td>-0.986053</td>\n",
       "    </tr>\n",
       "  </tbody>\n",
       "</table>\n",
       "</div>"
      ],
      "text/plain": [
       "          0\n",
       "0 -1.074828\n",
       "1 -1.219728\n",
       "2 -1.296071\n",
       "3 -1.155142\n",
       "4 -0.986053"
      ]
     },
     "execution_count": 84,
     "metadata": {},
     "output_type": "execute_result"
    }
   ],
   "source": [
    "DT_bm_df = pd.DataFrame(DT_bm_results)\n",
    "DT_bm_df.head()"
   ]
  },
  {
   "cell_type": "code",
   "execution_count": null,
   "metadata": {
    "collapsed": true
   },
   "outputs": [],
   "source": [
    "DT_results = []\n",
    "for feature in madelon_tr_s1.columns:\n",
    "    mean_scores = mean_r2_for_feature(madelon_tr_s1, feature, DecisionTreeRegressor)\n",
    "    DT_results.append(mean_scores)"
   ]
  },
  {
   "cell_type": "code",
   "execution_count": null,
   "metadata": {
    "collapsed": true
   },
   "outputs": [],
   "source": [
    "DT_df = pd.DataFrame(DT_results)\n",
    "DT_df.head()"
   ]
  },
  {
   "cell_type": "code",
   "execution_count": 115,
   "metadata": {
    "collapsed": true
   },
   "outputs": [],
   "source": [
    "scores = {\n",
    "    'benchmark_KNN': KNN_bm_results, \n",
    "    'KNN': KNN_results,\n",
    "    'benchmark_DT': DT_bm_results,\n",
    "    'DT': np.NaN\n",
    "}"
   ]
  },
  {
   "cell_type": "code",
   "execution_count": 116,
   "metadata": {
    "collapsed": true
   },
   "outputs": [],
   "source": [
    "all_scores = pd.DataFrame(scores)"
   ]
  },
  {
   "cell_type": "code",
   "execution_count": 117,
   "metadata": {},
   "outputs": [
    {
     "data": {
      "text/html": [
       "<div>\n",
       "<table border=\"1\" class=\"dataframe\">\n",
       "  <thead>\n",
       "    <tr style=\"text-align: right;\">\n",
       "      <th></th>\n",
       "      <th>DT</th>\n",
       "      <th>KNN</th>\n",
       "      <th>benchmark_DT</th>\n",
       "      <th>benchmark_KNN</th>\n",
       "    </tr>\n",
       "  </thead>\n",
       "  <tbody>\n",
       "    <tr>\n",
       "      <th>0</th>\n",
       "      <td>NaN</td>\n",
       "      <td>-0.223132</td>\n",
       "      <td>-1.074828</td>\n",
       "      <td>-0.203113</td>\n",
       "    </tr>\n",
       "    <tr>\n",
       "      <th>1</th>\n",
       "      <td>NaN</td>\n",
       "      <td>-0.188511</td>\n",
       "      <td>-1.219728</td>\n",
       "      <td>-0.290567</td>\n",
       "    </tr>\n",
       "    <tr>\n",
       "      <th>2</th>\n",
       "      <td>NaN</td>\n",
       "      <td>-0.210594</td>\n",
       "      <td>-1.296071</td>\n",
       "      <td>-0.290727</td>\n",
       "    </tr>\n",
       "    <tr>\n",
       "      <th>3</th>\n",
       "      <td>NaN</td>\n",
       "      <td>-0.154254</td>\n",
       "      <td>-1.155142</td>\n",
       "      <td>-0.118808</td>\n",
       "    </tr>\n",
       "    <tr>\n",
       "      <th>4</th>\n",
       "      <td>NaN</td>\n",
       "      <td>-0.263195</td>\n",
       "      <td>-0.986053</td>\n",
       "      <td>-0.270024</td>\n",
       "    </tr>\n",
       "  </tbody>\n",
       "</table>\n",
       "</div>"
      ],
      "text/plain": [
       "   DT       KNN  benchmark_DT  benchmark_KNN\n",
       "0 NaN -0.223132     -1.074828      -0.203113\n",
       "1 NaN -0.188511     -1.219728      -0.290567\n",
       "2 NaN -0.210594     -1.296071      -0.290727\n",
       "3 NaN -0.154254     -1.155142      -0.118808\n",
       "4 NaN -0.263195     -0.986053      -0.270024"
      ]
     },
     "execution_count": 117,
     "metadata": {},
     "output_type": "execute_result"
    }
   ],
   "source": [
    "all_scores.head()"
   ]
  },
  {
   "cell_type": "code",
   "execution_count": 118,
   "metadata": {},
   "outputs": [
    {
     "data": {
      "text/html": [
       "<div>\n",
       "<table border=\"1\" class=\"dataframe\">\n",
       "  <thead>\n",
       "    <tr style=\"text-align: right;\">\n",
       "      <th></th>\n",
       "      <th>DT</th>\n",
       "      <th>KNN</th>\n",
       "      <th>benchmark_DT</th>\n",
       "      <th>benchmark_KNN</th>\n",
       "    </tr>\n",
       "  </thead>\n",
       "  <tbody>\n",
       "    <tr>\n",
       "      <th>496</th>\n",
       "      <td>NaN</td>\n",
       "      <td>-0.245728</td>\n",
       "      <td>-1.066643</td>\n",
       "      <td>-0.206830</td>\n",
       "    </tr>\n",
       "    <tr>\n",
       "      <th>497</th>\n",
       "      <td>NaN</td>\n",
       "      <td>-0.212429</td>\n",
       "      <td>-1.047704</td>\n",
       "      <td>-0.216765</td>\n",
       "    </tr>\n",
       "    <tr>\n",
       "      <th>498</th>\n",
       "      <td>NaN</td>\n",
       "      <td>-0.216077</td>\n",
       "      <td>-1.197446</td>\n",
       "      <td>-0.353008</td>\n",
       "    </tr>\n",
       "    <tr>\n",
       "      <th>499</th>\n",
       "      <td>NaN</td>\n",
       "      <td>-0.321889</td>\n",
       "      <td>-0.811123</td>\n",
       "      <td>-0.179649</td>\n",
       "    </tr>\n",
       "    <tr>\n",
       "      <th>500</th>\n",
       "      <td>NaN</td>\n",
       "      <td>-0.231525</td>\n",
       "      <td>-1.000817</td>\n",
       "      <td>-0.130136</td>\n",
       "    </tr>\n",
       "  </tbody>\n",
       "</table>\n",
       "</div>"
      ],
      "text/plain": [
       "     DT       KNN  benchmark_DT  benchmark_KNN\n",
       "496 NaN -0.245728     -1.066643      -0.206830\n",
       "497 NaN -0.212429     -1.047704      -0.216765\n",
       "498 NaN -0.216077     -1.197446      -0.353008\n",
       "499 NaN -0.321889     -0.811123      -0.179649\n",
       "500 NaN -0.231525     -1.000817      -0.130136"
      ]
     },
     "execution_count": 118,
     "metadata": {},
     "output_type": "execute_result"
    }
   ],
   "source": [
    "all_scores.tail()"
   ]
  },
  {
   "cell_type": "code",
   "execution_count": 119,
   "metadata": {},
   "outputs": [
    {
     "data": {
      "text/html": [
       "<div>\n",
       "<table border=\"1\" class=\"dataframe\">\n",
       "  <thead>\n",
       "    <tr style=\"text-align: right;\">\n",
       "      <th></th>\n",
       "      <th>DT</th>\n",
       "      <th>KNN</th>\n",
       "      <th>benchmark_DT</th>\n",
       "      <th>benchmark_KNN</th>\n",
       "    </tr>\n",
       "  </thead>\n",
       "  <tbody>\n",
       "    <tr>\n",
       "      <th>172</th>\n",
       "      <td>NaN</td>\n",
       "      <td>-0.474347</td>\n",
       "      <td>-1.286724</td>\n",
       "      <td>-0.334937</td>\n",
       "    </tr>\n",
       "    <tr>\n",
       "      <th>345</th>\n",
       "      <td>NaN</td>\n",
       "      <td>-0.462256</td>\n",
       "      <td>-1.143103</td>\n",
       "      <td>-0.253109</td>\n",
       "    </tr>\n",
       "    <tr>\n",
       "      <th>91</th>\n",
       "      <td>NaN</td>\n",
       "      <td>-0.407158</td>\n",
       "      <td>-1.078812</td>\n",
       "      <td>-0.250621</td>\n",
       "    </tr>\n",
       "    <tr>\n",
       "      <th>187</th>\n",
       "      <td>NaN</td>\n",
       "      <td>-0.400707</td>\n",
       "      <td>-1.154530</td>\n",
       "      <td>-0.284333</td>\n",
       "    </tr>\n",
       "    <tr>\n",
       "      <th>303</th>\n",
       "      <td>NaN</td>\n",
       "      <td>-0.398511</td>\n",
       "      <td>-1.229805</td>\n",
       "      <td>-0.266726</td>\n",
       "    </tr>\n",
       "  </tbody>\n",
       "</table>\n",
       "</div>"
      ],
      "text/plain": [
       "     DT       KNN  benchmark_DT  benchmark_KNN\n",
       "172 NaN -0.474347     -1.286724      -0.334937\n",
       "345 NaN -0.462256     -1.143103      -0.253109\n",
       "91  NaN -0.407158     -1.078812      -0.250621\n",
       "187 NaN -0.400707     -1.154530      -0.284333\n",
       "303 NaN -0.398511     -1.229805      -0.266726"
      ]
     },
     "execution_count": 119,
     "metadata": {},
     "output_type": "execute_result"
    }
   ],
   "source": [
    "all_scores.sort_values('KNN').head()"
   ]
  },
  {
   "cell_type": "code",
   "execution_count": 120,
   "metadata": {},
   "outputs": [
    {
     "data": {
      "text/html": [
       "<div>\n",
       "<table border=\"1\" class=\"dataframe\">\n",
       "  <thead>\n",
       "    <tr style=\"text-align: right;\">\n",
       "      <th></th>\n",
       "      <th>DT</th>\n",
       "      <th>KNN</th>\n",
       "      <th>benchmark_DT</th>\n",
       "      <th>benchmark_KNN</th>\n",
       "    </tr>\n",
       "  </thead>\n",
       "  <tbody>\n",
       "    <tr>\n",
       "      <th>453</th>\n",
       "      <td>NaN</td>\n",
       "      <td>0.353492</td>\n",
       "      <td>0.891679</td>\n",
       "      <td>0.882344</td>\n",
       "    </tr>\n",
       "    <tr>\n",
       "      <th>105</th>\n",
       "      <td>NaN</td>\n",
       "      <td>0.354419</td>\n",
       "      <td>0.909219</td>\n",
       "      <td>0.667223</td>\n",
       "    </tr>\n",
       "    <tr>\n",
       "      <th>472</th>\n",
       "      <td>NaN</td>\n",
       "      <td>0.390529</td>\n",
       "      <td>0.882178</td>\n",
       "      <td>0.797792</td>\n",
       "    </tr>\n",
       "    <tr>\n",
       "      <th>442</th>\n",
       "      <td>NaN</td>\n",
       "      <td>0.404260</td>\n",
       "      <td>0.896622</td>\n",
       "      <td>0.734238</td>\n",
       "    </tr>\n",
       "    <tr>\n",
       "      <th>338</th>\n",
       "      <td>NaN</td>\n",
       "      <td>0.434271</td>\n",
       "      <td>0.548763</td>\n",
       "      <td>0.837135</td>\n",
       "    </tr>\n",
       "  </tbody>\n",
       "</table>\n",
       "</div>"
      ],
      "text/plain": [
       "     DT       KNN  benchmark_DT  benchmark_KNN\n",
       "453 NaN  0.353492      0.891679       0.882344\n",
       "105 NaN  0.354419      0.909219       0.667223\n",
       "472 NaN  0.390529      0.882178       0.797792\n",
       "442 NaN  0.404260      0.896622       0.734238\n",
       "338 NaN  0.434271      0.548763       0.837135"
      ]
     },
     "execution_count": 120,
     "metadata": {},
     "output_type": "execute_result"
    }
   ],
   "source": [
    "all_scores.sort_values('KNN').tail()"
   ]
  },
  {
   "cell_type": "code",
   "execution_count": 121,
   "metadata": {},
   "outputs": [
    {
     "data": {
      "text/html": [
       "<div>\n",
       "<table border=\"1\" class=\"dataframe\">\n",
       "  <thead>\n",
       "    <tr style=\"text-align: right;\">\n",
       "      <th></th>\n",
       "      <th>DT</th>\n",
       "      <th>KNN</th>\n",
       "      <th>benchmark_DT</th>\n",
       "      <th>benchmark_KNN</th>\n",
       "    </tr>\n",
       "  </thead>\n",
       "  <tbody>\n",
       "    <tr>\n",
       "      <th>83</th>\n",
       "      <td>NaN</td>\n",
       "      <td>-0.280903</td>\n",
       "      <td>-1.397255</td>\n",
       "      <td>-0.277980</td>\n",
       "    </tr>\n",
       "    <tr>\n",
       "      <th>361</th>\n",
       "      <td>NaN</td>\n",
       "      <td>-0.142185</td>\n",
       "      <td>-1.363476</td>\n",
       "      <td>-0.180481</td>\n",
       "    </tr>\n",
       "    <tr>\n",
       "      <th>242</th>\n",
       "      <td>NaN</td>\n",
       "      <td>-0.228810</td>\n",
       "      <td>-1.356910</td>\n",
       "      <td>-0.323205</td>\n",
       "    </tr>\n",
       "    <tr>\n",
       "      <th>360</th>\n",
       "      <td>NaN</td>\n",
       "      <td>-0.279485</td>\n",
       "      <td>-1.356197</td>\n",
       "      <td>-0.298299</td>\n",
       "    </tr>\n",
       "    <tr>\n",
       "      <th>465</th>\n",
       "      <td>NaN</td>\n",
       "      <td>-0.113722</td>\n",
       "      <td>-1.330660</td>\n",
       "      <td>-0.143509</td>\n",
       "    </tr>\n",
       "  </tbody>\n",
       "</table>\n",
       "</div>"
      ],
      "text/plain": [
       "     DT       KNN  benchmark_DT  benchmark_KNN\n",
       "83  NaN -0.280903     -1.397255      -0.277980\n",
       "361 NaN -0.142185     -1.363476      -0.180481\n",
       "242 NaN -0.228810     -1.356910      -0.323205\n",
       "360 NaN -0.279485     -1.356197      -0.298299\n",
       "465 NaN -0.113722     -1.330660      -0.143509"
      ]
     },
     "execution_count": 121,
     "metadata": {},
     "output_type": "execute_result"
    }
   ],
   "source": [
    "all_scores.sort_values('benchmark_DT').head()"
   ]
  },
  {
   "cell_type": "code",
   "execution_count": 122,
   "metadata": {},
   "outputs": [
    {
     "data": {
      "text/html": [
       "<div>\n",
       "<table border=\"1\" class=\"dataframe\">\n",
       "  <thead>\n",
       "    <tr style=\"text-align: right;\">\n",
       "      <th></th>\n",
       "      <th>DT</th>\n",
       "      <th>KNN</th>\n",
       "      <th>benchmark_DT</th>\n",
       "      <th>benchmark_KNN</th>\n",
       "    </tr>\n",
       "  </thead>\n",
       "  <tbody>\n",
       "    <tr>\n",
       "      <th>153</th>\n",
       "      <td>NaN</td>\n",
       "      <td>0.229953</td>\n",
       "      <td>0.932811</td>\n",
       "      <td>0.723338</td>\n",
       "    </tr>\n",
       "    <tr>\n",
       "      <th>241</th>\n",
       "      <td>NaN</td>\n",
       "      <td>0.283045</td>\n",
       "      <td>0.939721</td>\n",
       "      <td>0.754656</td>\n",
       "    </tr>\n",
       "    <tr>\n",
       "      <th>433</th>\n",
       "      <td>NaN</td>\n",
       "      <td>0.238820</td>\n",
       "      <td>0.940463</td>\n",
       "      <td>0.770975</td>\n",
       "    </tr>\n",
       "    <tr>\n",
       "      <th>318</th>\n",
       "      <td>NaN</td>\n",
       "      <td>0.233991</td>\n",
       "      <td>0.948850</td>\n",
       "      <td>0.382504</td>\n",
       "    </tr>\n",
       "    <tr>\n",
       "      <th>28</th>\n",
       "      <td>NaN</td>\n",
       "      <td>0.241772</td>\n",
       "      <td>0.949231</td>\n",
       "      <td>0.502444</td>\n",
       "    </tr>\n",
       "  </tbody>\n",
       "</table>\n",
       "</div>"
      ],
      "text/plain": [
       "     DT       KNN  benchmark_DT  benchmark_KNN\n",
       "153 NaN  0.229953      0.932811       0.723338\n",
       "241 NaN  0.283045      0.939721       0.754656\n",
       "433 NaN  0.238820      0.940463       0.770975\n",
       "318 NaN  0.233991      0.948850       0.382504\n",
       "28  NaN  0.241772      0.949231       0.502444"
      ]
     },
     "execution_count": 122,
     "metadata": {},
     "output_type": "execute_result"
    }
   ],
   "source": [
    "all_scores.sort_values('benchmark_DT').tail()"
   ]
  },
  {
   "cell_type": "code",
   "execution_count": 126,
   "metadata": {},
   "outputs": [
    {
     "data": {
      "image/png": "[encoded data removed]",
      "text/plain": [
       "<matplotlib.figure.Figure at 0x7f8ef8f2aba8>"
      ]
     },
     "metadata": {},
     "output_type": "display_data"
    }
   ],
   "source": [
    "corr = KNN_df.corr()\n",
    "mask = np.zeros_like(corr)\n",
    "mask[np.triu_indices_from(mask, 1)] = True\n",
    "with sns.axes_style(\"white\"):\n",
    "    ax = sns.heatmap(corr, mask=mask, square=True, annot=True,\n",
    "                     cmap='RdBu', fmt='+.3f')\n",
    "    plt.xticks(rotation=45, ha='center')"
   ]
  },
  {
   "cell_type": "code",
   "execution_count": null,
   "metadata": {
    "collapsed": true
   },
   "outputs": [],
   "source": [
    "scores = {\n",
    "    'benchmark_KNN': [KNN_bm_results], \n",
    "    'benchmark_DecisionTree': [benchmark_DT_results],\n",
    "    'KNN': [KNN_results],\n",
    "    'DecisionTree': [DT_results]\n",
    "}"
   ]
  },
  {
   "cell_type": "code",
   "execution_count": null,
   "metadata": {
    "collapsed": true
   },
   "outputs": [],
   "source": [
    "scores_df = pd.DataFrame(scores)"
   ]
  },
  {
   "cell_type": "code",
   "execution_count": null,
   "metadata": {
    "collapsed": true
   },
   "outputs": [],
   "source": [
    "def calculate_r2_for_feature(data, feature, regressor, scale=True):\n",
    "    new_data = data.drop(feature, axis=1)\n",
    "\n",
    "    X_tr, \\\n",
    "    X_ts,  \\\n",
    "    y_tr, \\\n",
    "    y_ts = train_test_split(\n",
    "        new_data,data[feature],test_size=0.25\n",
    "    )\n",
    "    \n",
    "    regressor = regressor()\n",
    "    \n",
    "    if scale:\n",
    "        scaler = StandardScaler()\n",
    "        scaler.fit(X_tr, y_tr)\n",
    "        X_tr_sc = scaler.transform(X_tr, y_tr)\n",
    "        X_ts_sc = scaler.transform(X_ts, y_ts)\n",
    "        regressor.fit(X_tr_sc, y_tr)\n",
    "        score = regressor.score(X_ts_sc, y_ts)\n",
    "   \n",
    "    else:\n",
    "        regressor.fit(X_tr, y_tr)\n",
    "        score = regressor.score(X_ts, y_ts)\n",
    "\n",
    "    return score"
   ]
  }
 ],
 "metadata": {
  "kernelspec": {
   "display_name": "Python 3",
   "language": "python",
   "name": "python3"
  },
  "language_info": {
   "codemirror_mode": {
    "name": "ipython",
    "version": 3
   },
   "file_extension": ".py",
   "mimetype": "text/x-python",
   "name": "python",
   "nbconvert_exporter": "python",
   "pygments_lexer": "ipython3",
   "version": "3.6.2"
  }
 },
 "nbformat": 4,
 "nbformat_minor": 2
}
