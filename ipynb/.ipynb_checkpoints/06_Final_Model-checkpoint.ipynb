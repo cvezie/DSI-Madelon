{
 "cells": [
  {
   "cell_type": "markdown",
   "metadata": {},
   "source": [
    "# Final Model"
   ]
  },
  {
   "cell_type": "markdown",
   "metadata": {},
   "source": [
    "### 0. Setup and Import Data"
   ]
  },
  {
   "cell_type": "code",
   "execution_count": null,
   "metadata": {
    "collapsed": true
   },
   "outputs": [],
   "source": [
    "cd ..\n",
    "\n",
    "%run __init__.py\n",
    "\n",
    "%matplotlib inline\n",
    "\n",
    "cook_df = pd.read_pickle('ipynb/cook_sample_df.pkl')\n",
    "uci_df = pd.read_pickle('ipynb/uci_df.pkl')"
   ]
  },
  {
   "cell_type": "markdown",
   "metadata": {},
   "source": [
    "### SKB"
   ]
  },
  {
   "cell_type": "code",
   "execution_count": null,
   "metadata": {
    "collapsed": true
   },
   "outputs": [],
   "source": [
    "def r2_score(data, feature, regressor, scale=True):\n",
    "    \n",
    "    X_train, \\\n",
    "    X_test, \\\n",
    "    y_train, \\\n",
    "    y_test = train_test_split(data.drop(feature, axis=1), data[feature], test_size=0.25)\n",
    "\n",
    "    if scale:\n",
    "        scaler = StandardScaler()\n",
    "        scaler.fit_transform(X_train)\n",
    "        scaler.transform(X_test)\n",
    "    \n",
    "    regressor = regressor()\n",
    "    \n",
    "    regressor.fit(X_train, y_train)\n",
    "    score = regressor.score(X_test, y_test)\n",
    "    \n",
    "    return score"
   ]
  },
  {
   "cell_type": "code",
   "execution_count": null,
   "metadata": {
    "collapsed": true
   },
   "outputs": [],
   "source": [
    "r2_score(uci1_skb, uci1['labels'], LogisticRegression, scale=True)"
   ]
  },
  {
   "cell_type": "code",
   "execution_count": null,
   "metadata": {
    "collapsed": true
   },
   "outputs": [],
   "source": [
    "regressors = [\n",
    "    LogisticRegression,\n",
    "    LinearSVC,\n",
    "    DecisionTreeClassifier,\n",
    "    SVC,\n",
    "    KNeighborsClassifier\n",
    "]"
   ]
  },
  {
   "cell_type": "code",
   "execution_count": null,
   "metadata": {
    "collapsed": true
   },
   "outputs": [],
   "source": [
    "for regressor in benchmark_regressors:\n",
    "    benchmark = {\n",
    "        regressor(): benchmark_r2_score(uci1, 'labels', regressor)\n",
    "    }\n",
    "    print(benchmark)"
   ]
  },
  {
   "cell_type": "code",
   "execution_count": null,
   "metadata": {
    "collapsed": true
   },
   "outputs": [],
   "source": [
    "roc_auc_scorer = make_scorer(roc_auc_score, greater_is_better=True)"
   ]
  },
  {
   "cell_type": "markdown",
   "metadata": {},
   "source": [
    "#### (OPTIONAL) train on LogisiticRegression on the entire data set with only the columns selected from selectkbest. Test on the validation set. "
   ]
  },
  {
   "cell_type": "code",
   "execution_count": null,
   "metadata": {
    "collapsed": true
   },
   "outputs": [],
   "source": []
  }
 ],
 "metadata": {
  "kernelspec": {
   "display_name": "Python 3",
   "language": "python",
   "name": "python3"
  },
  "language_info": {
   "codemirror_mode": {
    "name": "ipython",
    "version": 3
   },
   "file_extension": ".py",
   "mimetype": "text/x-python",
   "name": "python",
   "nbconvert_exporter": "python",
   "pygments_lexer": "ipython3",
   "version": "3.6.2"
  }
 },
 "nbformat": 4,
 "nbformat_minor": 2
}
