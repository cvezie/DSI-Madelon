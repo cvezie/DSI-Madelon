{
 "cells": [
  {
   "cell_type": "markdown",
   "metadata": {},
   "source": [
    "#### Attempting to pull 10% sample from the Database"
   ]
  },
  {
   "cell_type": "code",
   "execution_count": 3,
   "metadata": {},
   "outputs": [
    {
     "name": "stdout",
     "output_type": "stream",
     "text": [
      "Collecting tqdm\n",
      "  Downloading tqdm-4.19.4-py2.py3-none-any.whl (50kB)\n",
      "\u001b[K    100% |████████████████████████████████| 51kB 3.0MB/s ta 0:00:011\n",
      "\u001b[?25hInstalling collected packages: tqdm\n",
      "Successfully installed tqdm-4.19.4\n"
     ]
    }
   ],
   "source": [
    "!pip install tqdm"
   ]
  },
  {
   "cell_type": "code",
   "execution_count": 1,
   "metadata": {},
   "outputs": [
    {
     "name": "stderr",
     "output_type": "stream",
     "text": [
      "21it [00:10,  2.00it/s]                      \n"
     ]
    },
    {
     "data": {
      "text/plain": [
       "(5037, 1002)"
      ]
     },
     "execution_count": 1,
     "metadata": {},
     "output_type": "execute_result"
    }
   ],
   "source": [
    "import psycopg2 as pg2\n",
    "from psycopg2.extras import RealDictCursor\n",
    "import pandas as pd\n",
    "from tqdm import tqdm\n",
    "\n",
    "BATCH_SIZE = 250\n",
    "SAMPLE_SIZE = 500\n",
    "SAMPLE_PERCENT = 2.5\n",
    "\n",
    "con = pg2.connect(host='34.211.227.227',dbname='postgres', user='postgres')\n",
    "cur = con.cursor(cursor_factory=RealDictCursor, name='customer_cursor')\n",
    "cur.execute('SELECT * FROM madelon TABLESAMPLE SYSTEM ({});'.format(SAMPLE_PERCENT))\n",
    "\n",
    "madelon = []\n",
    "\n",
    "pbar = tqdm(total=SAMPLE_SIZE//BATCH_SIZE)\n",
    "while True:\n",
    "    records = cur.fetchmany(size=BATCH_SIZE)\n",
    "\n",
    "    if not records:\n",
    "        break\n",
    "\n",
    "    madelon += records\n",
    "    pbar.update(1)\n",
    "\n",
    "cur.close() \n",
    "con.close()\n",
    "pbar.close()\n",
    "\n",
    "madelon_df = pd.DataFrame(madelon)\n",
    "madelon_df.shape "
   ]
  },
  {
   "cell_type": "code",
   "execution_count": 1,
   "metadata": {},
   "outputs": [
    {
     "name": "stderr",
     "output_type": "stream",
     "text": [
      "100%|██████████| 1/1 [00:01<00:00,  1.00s/it]\n"
     ]
    },
    {
     "data": {
      "text/plain": [
       "(486, 1002)"
      ]
     },
     "execution_count": 1,
     "metadata": {},
     "output_type": "execute_result"
    }
   ],
   "source": [
    "import psycopg2 as pg2\n",
    "from psycopg2.extras import RealDictCursor\n",
    "import pandas as pd\n",
    "from tqdm import tqdm\n",
    "\n",
    "BATCH_SIZE = 500\n",
    "SAMPLE_SIZE = 500\n",
    "SAMPLE_PERCENT = .25\n",
    "\n",
    "con = pg2.connect(host='34.211.227.227',dbname='postgres', user='postgres')\n",
    "cur = con.cursor(cursor_factory=RealDictCursor, name='customer_cursor')\n",
    "cur.execute('SELECT * FROM madelon TABLESAMPLE SYSTEM ({});'.format(SAMPLE_PERCENT))\n",
    "\n",
    "madelon2 = []\n",
    "\n",
    "pbar = tqdm(total=SAMPLE_SIZE//BATCH_SIZE)\n",
    "while True:\n",
    "    records = cur.fetchmany(size=BATCH_SIZE)\n",
    "\n",
    "    if not records:\n",
    "        break\n",
    "\n",
    "    madelon2 += records\n",
    "    pbar.update(1)\n",
    "\n",
    "cur.close() \n",
    "con.close()\n",
    "pbar.close()\n",
    "\n",
    "madelon2_df = pd.DataFrame(madelon2)\n",
    "madelon2_df.shape "
   ]
  },
  {
   "cell_type": "code",
   "execution_count": 2,
   "metadata": {},
   "outputs": [
    {
     "name": "stderr",
     "output_type": "stream",
     "text": [
      "2it [00:01,  1.88it/s]                       \n"
     ]
    },
    {
     "data": {
      "text/plain": [
       "(506, 1002)"
      ]
     },
     "execution_count": 2,
     "metadata": {},
     "output_type": "execute_result"
    }
   ],
   "source": [
    "import psycopg2 as pg2\n",
    "from psycopg2.extras import RealDictCursor\n",
    "import pandas as pd\n",
    "from tqdm import tqdm\n",
    "\n",
    "BATCH_SIZE = 500\n",
    "SAMPLE_SIZE = 500\n",
    "SAMPLE_PERCENT = .25\n",
    "\n",
    "con = pg2.connect(host='34.211.227.227',dbname='postgres', user='postgres')\n",
    "cur = con.cursor(cursor_factory=RealDictCursor, name='customer_cursor')\n",
    "cur.execute('SELECT * FROM madelon TABLESAMPLE SYSTEM ({});'.format(SAMPLE_PERCENT))\n",
    "\n",
    "madelon3 = []\n",
    "\n",
    "pbar = tqdm(total=SAMPLE_SIZE//BATCH_SIZE)\n",
    "while True:\n",
    "    records = cur.fetchmany(size=BATCH_SIZE)\n",
    "\n",
    "    if not records:\n",
    "        break\n",
    "\n",
    "    madelon3 += records\n",
    "    pbar.update(1)\n",
    "\n",
    "cur.close() \n",
    "con.close()\n",
    "pbar.close()\n",
    "\n",
    "madelon3_df = pd.DataFrame(madelon3)\n",
    "madelon3_df.shape "
   ]
  },
  {
   "cell_type": "code",
   "execution_count": 5,
   "metadata": {},
   "outputs": [
    {
     "name": "stderr",
     "output_type": "stream",
     "text": [
      "2it [00:02,  1.02s/it]                       \n"
     ]
    },
    {
     "data": {
      "text/plain": [
       "(971, 1002)"
      ]
     },
     "execution_count": 5,
     "metadata": {},
     "output_type": "execute_result"
    }
   ],
   "source": [
    "import psycopg2 as pg2\n",
    "from psycopg2.extras import RealDictCursor\n",
    "import pandas as pd\n",
    "from tqdm import tqdm\n",
    "\n",
    "BATCH_SIZE = 500\n",
    "SAMPLE_SIZE = 500\n",
    "SAMPLE_PERCENT = .5\n",
    "\n",
    "con = pg2.connect(host='34.211.227.227',dbname='postgres', user='postgres')\n",
    "cur = con.cursor(cursor_factory=RealDictCursor, name='customer_cursor')\n",
    "cur.execute('SELECT * FROM madelon TABLESAMPLE SYSTEM ({});'.format(SAMPLE_PERCENT))\n",
    "\n",
    "madelon4 = []\n",
    "\n",
    "pbar = tqdm(total=SAMPLE_SIZE//BATCH_SIZE)\n",
    "while True:\n",
    "    records = cur.fetchmany(size=BATCH_SIZE)\n",
    "\n",
    "    if not records:\n",
    "        break\n",
    "\n",
    "    madelon4 += records\n",
    "    pbar.update(1)\n",
    "\n",
    "cur.close() \n",
    "con.close()\n",
    "pbar.close()\n",
    "\n",
    "madelon4_df = pd.DataFrame(madelon4)\n",
    "madelon4_df.shape "
   ]
  },
  {
   "cell_type": "code",
   "execution_count": 6,
   "metadata": {},
   "outputs": [
    {
     "name": "stderr",
     "output_type": "stream",
     "text": [
      "2it [00:01,  1.84it/s]                       \n"
     ]
    },
    {
     "data": {
      "text/plain": [
       "(518, 1002)"
      ]
     },
     "execution_count": 6,
     "metadata": {},
     "output_type": "execute_result"
    }
   ],
   "source": [
    "import psycopg2 as pg2\n",
    "from psycopg2.extras import RealDictCursor\n",
    "import pandas as pd\n",
    "from tqdm import tqdm\n",
    "\n",
    "BATCH_SIZE = 500\n",
    "SAMPLE_SIZE = 500\n",
    "SAMPLE_PERCENT = .25\n",
    "\n",
    "con = pg2.connect(host='34.211.227.227',dbname='postgres', user='postgres')\n",
    "cur = con.cursor(cursor_factory=RealDictCursor, name='customer_cursor')\n",
    "cur.execute('SELECT * FROM madelon TABLESAMPLE SYSTEM ({});'.format(SAMPLE_PERCENT))\n",
    "\n",
    "madelon5 = []\n",
    "\n",
    "pbar = tqdm(total=SAMPLE_SIZE//BATCH_SIZE)\n",
    "while True:\n",
    "    records = cur.fetchmany(size=BATCH_SIZE)\n",
    "\n",
    "    if not records:\n",
    "        break\n",
    "\n",
    "    madelon5 += records\n",
    "    pbar.update(1)\n",
    "\n",
    "cur.close() \n",
    "con.close()\n",
    "pbar.close()\n",
    "\n",
    "madelon5_df = pd.DataFrame(madelon5)\n",
    "madelon5_df.shape "
   ]
  },
  {
   "cell_type": "code",
   "execution_count": 7,
   "metadata": {},
   "outputs": [
    {
     "name": "stderr",
     "output_type": "stream",
     "text": [
      "2it [00:02,  1.03s/it]                       \n"
     ]
    },
    {
     "data": {
      "text/plain": [
       "(998, 1002)"
      ]
     },
     "execution_count": 7,
     "metadata": {},
     "output_type": "execute_result"
    }
   ],
   "source": [
    "import psycopg2 as pg2\n",
    "from psycopg2.extras import RealDictCursor\n",
    "import pandas as pd\n",
    "from tqdm import tqdm\n",
    "\n",
    "BATCH_SIZE = 500\n",
    "SAMPLE_SIZE = 500\n",
    "SAMPLE_PERCENT = .5\n",
    "\n",
    "con = pg2.connect(host='34.211.227.227',dbname='postgres', user='postgres')\n",
    "cur = con.cursor(cursor_factory=RealDictCursor, name='customer_cursor')\n",
    "cur.execute('SELECT * FROM madelon TABLESAMPLE SYSTEM ({});'.format(SAMPLE_PERCENT))\n",
    "\n",
    "madelon6 = []\n",
    "\n",
    "pbar = tqdm(total=SAMPLE_SIZE//BATCH_SIZE)\n",
    "while True:\n",
    "    records = cur.fetchmany(size=BATCH_SIZE)\n",
    "\n",
    "    if not records:\n",
    "        break\n",
    "\n",
    "    madelon6 += records\n",
    "    pbar.update(1)\n",
    "\n",
    "cur.close() \n",
    "con.close()\n",
    "pbar.close()\n",
    "\n",
    "madelon6_df = pd.DataFrame(madelon6)\n",
    "madelon6_df.shape "
   ]
  },
  {
   "cell_type": "code",
   "execution_count": 8,
   "metadata": {},
   "outputs": [
    {
     "name": "stderr",
     "output_type": "stream",
     "text": [
      "3it [00:02,  1.40it/s]                       \n"
     ]
    },
    {
     "data": {
      "text/plain": [
       "(1016, 1002)"
      ]
     },
     "execution_count": 8,
     "metadata": {},
     "output_type": "execute_result"
    }
   ],
   "source": [
    "import psycopg2 as pg2\n",
    "from psycopg2.extras import RealDictCursor\n",
    "import pandas as pd\n",
    "from tqdm import tqdm\n",
    "\n",
    "BATCH_SIZE = 500\n",
    "SAMPLE_SIZE = 500\n",
    "SAMPLE_PERCENT = .5\n",
    "\n",
    "con = pg2.connect(host='34.211.227.227',dbname='postgres', user='postgres')\n",
    "cur = con.cursor(cursor_factory=RealDictCursor, name='customer_cursor')\n",
    "cur.execute('SELECT * FROM madelon TABLESAMPLE SYSTEM ({});'.format(SAMPLE_PERCENT))\n",
    "\n",
    "madelon1 = []\n",
    "\n",
    "pbar = tqdm(total=SAMPLE_SIZE//BATCH_SIZE)\n",
    "while True:\n",
    "    records = cur.fetchmany(size=BATCH_SIZE)\n",
    "\n",
    "    if not records:\n",
    "        break\n",
    "\n",
    "    madelon1 += records\n",
    "    pbar.update(1)\n",
    "\n",
    "cur.close() \n",
    "con.close()\n",
    "pbar.close()\n",
    "\n",
    "madelon1_df = pd.DataFrame(madelon1)\n",
    "madelon1_df.shape "
   ]
  },
  {
   "cell_type": "code",
   "execution_count": 9,
   "metadata": {},
   "outputs": [
    {
     "name": "stderr",
     "output_type": "stream",
     "text": [
      "3it [00:03,  1.02s/it]                       \n"
     ]
    },
    {
     "data": {
      "text/plain": [
       "(1471, 1002)"
      ]
     },
     "execution_count": 9,
     "metadata": {},
     "output_type": "execute_result"
    }
   ],
   "source": [
    "import psycopg2 as pg2\n",
    "from psycopg2.extras import RealDictCursor\n",
    "import pandas as pd\n",
    "from tqdm import tqdm\n",
    "\n",
    "BATCH_SIZE = 500\n",
    "SAMPLE_SIZE = 500\n",
    "SAMPLE_PERCENT = .75\n",
    "\n",
    "con = pg2.connect(host='34.211.227.227',dbname='postgres', user='postgres')\n",
    "cur = con.cursor(cursor_factory=RealDictCursor, name='customer_cursor')\n",
    "cur.execute('SELECT * FROM madelon TABLESAMPLE SYSTEM ({});'.format(SAMPLE_PERCENT))\n",
    "\n",
    "madelon7 = []\n",
    "\n",
    "pbar = tqdm(total=SAMPLE_SIZE//BATCH_SIZE)\n",
    "while True:\n",
    "    records = cur.fetchmany(size=BATCH_SIZE)\n",
    "\n",
    "    if not records:\n",
    "        break\n",
    "\n",
    "    madelon7 += records\n",
    "    pbar.update(1)\n",
    "\n",
    "cur.close() \n",
    "con.close()\n",
    "pbar.close()\n",
    "\n",
    "madelon7_df = pd.DataFrame(madelon7)\n",
    "madelon7_df.shape "
   ]
  },
  {
   "cell_type": "code",
   "execution_count": 10,
   "metadata": {},
   "outputs": [
    {
     "name": "stderr",
     "output_type": "stream",
     "text": [
      "5it [00:04,  1.31it/s]                       \n"
     ]
    },
    {
     "data": {
      "text/plain": [
       "(2046, 1002)"
      ]
     },
     "execution_count": 10,
     "metadata": {},
     "output_type": "execute_result"
    }
   ],
   "source": [
    "import psycopg2 as pg2\n",
    "from psycopg2.extras import RealDictCursor\n",
    "import pandas as pd\n",
    "from tqdm import tqdm\n",
    "\n",
    "BATCH_SIZE = 500\n",
    "SAMPLE_SIZE = 500\n",
    "SAMPLE_PERCENT = 1\n",
    "\n",
    "con = pg2.connect(host='34.211.227.227',dbname='postgres', user='postgres')\n",
    "cur = con.cursor(cursor_factory=RealDictCursor, name='customer_cursor')\n",
    "cur.execute('SELECT * FROM madelon TABLESAMPLE SYSTEM ({});'.format(SAMPLE_PERCENT))\n",
    "\n",
    "madelon8 = []\n",
    "\n",
    "pbar = tqdm(total=SAMPLE_SIZE//BATCH_SIZE)\n",
    "while True:\n",
    "    records = cur.fetchmany(size=BATCH_SIZE)\n",
    "\n",
    "    if not records:\n",
    "        break\n",
    "\n",
    "    madelon8 += records\n",
    "    pbar.update(1)\n",
    "\n",
    "cur.close() \n",
    "con.close()\n",
    "pbar.close()\n",
    "\n",
    "madelon8_df = pd.DataFrame(madelon8)\n",
    "madelon8_df.shape "
   ]
  },
  {
   "cell_type": "code",
   "execution_count": null,
   "metadata": {},
   "outputs": [
    {
     "name": "stderr",
     "output_type": "stream",
     "text": [
      "5it [00:04,  1.18it/s]                       "
     ]
    }
   ],
   "source": [
    "import psycopg2 as pg2\n",
    "from psycopg2.extras import RealDictCursor\n",
    "import pandas as pd\n",
    "from tqdm import tqdm\n",
    "\n",
    "BATCH_SIZE = 500\n",
    "SAMPLE_SIZE = 500\n",
    "SAMPLE_PERCENT = 1\n",
    "\n",
    "con = pg2.connect(host='34.211.227.227',dbname='postgres', user='postgres')\n",
    "cur = con.cursor(cursor_factory=RealDictCursor, name='customer_cursor')\n",
    "cur.execute('SELECT * FROM madelon TABLESAMPLE SYSTEM ({});'.format(SAMPLE_PERCENT))\n",
    "\n",
    "madelon9 = []\n",
    "\n",
    "pbar = tqdm(total=SAMPLE_SIZE//BATCH_SIZE)\n",
    "while True:\n",
    "    records = cur.fetchmany(size=BATCH_SIZE)\n",
    "\n",
    "    if not records:\n",
    "        break\n",
    "\n",
    "    madelon9 += records\n",
    "    pbar.update(1)\n",
    "\n",
    "cur.close() \n",
    "con.close()\n",
    "pbar.close()\n",
    "\n",
    "madelon9_df = pd.DataFrame(madelon9)\n",
    "madelon9_df.shape "
   ]
  },
  {
   "cell_type": "code",
   "execution_count": null,
   "metadata": {
    "collapsed": true
   },
   "outputs": [],
   "source": []
  }
 ],
 "metadata": {
  "kernelspec": {
   "display_name": "Python 3",
   "language": "python",
   "name": "python3"
  },
  "language_info": {
   "codemirror_mode": {
    "name": "ipython",
    "version": 3
   },
   "file_extension": ".py",
   "mimetype": "text/x-python",
   "name": "python",
   "nbconvert_exporter": "python",
   "pygments_lexer": "ipython3",
   "version": "3.6.2"
  }
 },
 "nbformat": 4,
 "nbformat_minor": 2
}
